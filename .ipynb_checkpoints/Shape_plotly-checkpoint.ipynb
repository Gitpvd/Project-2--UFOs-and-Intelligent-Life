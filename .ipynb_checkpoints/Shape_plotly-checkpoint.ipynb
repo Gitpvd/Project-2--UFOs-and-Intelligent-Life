{
 "cells": [
  {
   "cell_type": "code",
   "execution_count": 1,
   "metadata": {},
   "outputs": [
    {
     "data": {
      "text/plain": [
       "'4.2.0'"
      ]
     },
     "execution_count": 1,
     "metadata": {},
     "output_type": "execute_result"
    }
   ],
   "source": [
    "import plotly\n",
    "plotly.__version__"
   ]
  },
  {
   "cell_type": "code",
   "execution_count": 18,
   "metadata": {},
   "outputs": [],
   "source": [
    "import chart_studio.plotly as py\n",
    "import plotly.graph_objs as go\n",
    "import plotly.figure_factory as FF\n",
    "import plotly.express as px\n",
    "\n",
    "import numpy as np\n",
    "import pandas as pd"
   ]
  },
  {
   "cell_type": "code",
   "execution_count": 58,
   "metadata": {},
   "outputs": [
    {
     "data": {
      "text/html": [
       "<div>\n",
       "<style scoped>\n",
       "    .dataframe tbody tr th:only-of-type {\n",
       "        vertical-align: middle;\n",
       "    }\n",
       "\n",
       "    .dataframe tbody tr th {\n",
       "        vertical-align: top;\n",
       "    }\n",
       "\n",
       "    .dataframe thead th {\n",
       "        text-align: right;\n",
       "    }\n",
       "</style>\n",
       "<table border=\"1\" class=\"dataframe\">\n",
       "  <thead>\n",
       "    <tr style=\"text-align: right;\">\n",
       "      <th></th>\n",
       "      <th>Bin</th>\n",
       "      <th>changed</th>\n",
       "      <th>changing</th>\n",
       "      <th>chevron</th>\n",
       "      <th>cigar</th>\n",
       "      <th>circle</th>\n",
       "      <th>cone</th>\n",
       "      <th>crescent</th>\n",
       "      <th>cross</th>\n",
       "      <th>cylinder</th>\n",
       "      <th>...</th>\n",
       "      <th>light</th>\n",
       "      <th>other</th>\n",
       "      <th>oval</th>\n",
       "      <th>pyramid</th>\n",
       "      <th>rectangle</th>\n",
       "      <th>round</th>\n",
       "      <th>sphere</th>\n",
       "      <th>teardrop</th>\n",
       "      <th>triangle</th>\n",
       "      <th>unknown</th>\n",
       "    </tr>\n",
       "  </thead>\n",
       "  <tbody>\n",
       "    <tr>\n",
       "      <td>0</td>\n",
       "      <td>Before 1970</td>\n",
       "      <td>0</td>\n",
       "      <td>3</td>\n",
       "      <td>1</td>\n",
       "      <td>18</td>\n",
       "      <td>34</td>\n",
       "      <td>2</td>\n",
       "      <td>0</td>\n",
       "      <td>1</td>\n",
       "      <td>11</td>\n",
       "      <td>...</td>\n",
       "      <td>44</td>\n",
       "      <td>34</td>\n",
       "      <td>31</td>\n",
       "      <td>0</td>\n",
       "      <td>5</td>\n",
       "      <td>0</td>\n",
       "      <td>28</td>\n",
       "      <td>1</td>\n",
       "      <td>12</td>\n",
       "      <td>32</td>\n",
       "    </tr>\n",
       "    <tr>\n",
       "      <td>1</td>\n",
       "      <td>1970-1979</td>\n",
       "      <td>0</td>\n",
       "      <td>35</td>\n",
       "      <td>32</td>\n",
       "      <td>161</td>\n",
       "      <td>298</td>\n",
       "      <td>8</td>\n",
       "      <td>0</td>\n",
       "      <td>5</td>\n",
       "      <td>47</td>\n",
       "      <td>...</td>\n",
       "      <td>360</td>\n",
       "      <td>196</td>\n",
       "      <td>200</td>\n",
       "      <td>0</td>\n",
       "      <td>77</td>\n",
       "      <td>0</td>\n",
       "      <td>185</td>\n",
       "      <td>13</td>\n",
       "      <td>256</td>\n",
       "      <td>185</td>\n",
       "    </tr>\n",
       "    <tr>\n",
       "      <td>2</td>\n",
       "      <td>1980-1989</td>\n",
       "      <td>0</td>\n",
       "      <td>45</td>\n",
       "      <td>47</td>\n",
       "      <td>93</td>\n",
       "      <td>193</td>\n",
       "      <td>10</td>\n",
       "      <td>0</td>\n",
       "      <td>2</td>\n",
       "      <td>49</td>\n",
       "      <td>...</td>\n",
       "      <td>286</td>\n",
       "      <td>238</td>\n",
       "      <td>132</td>\n",
       "      <td>0</td>\n",
       "      <td>75</td>\n",
       "      <td>0</td>\n",
       "      <td>196</td>\n",
       "      <td>12</td>\n",
       "      <td>325</td>\n",
       "      <td>183</td>\n",
       "    </tr>\n",
       "    <tr>\n",
       "      <td>3</td>\n",
       "      <td>1990-1999</td>\n",
       "      <td>1</td>\n",
       "      <td>289</td>\n",
       "      <td>175</td>\n",
       "      <td>324</td>\n",
       "      <td>965</td>\n",
       "      <td>54</td>\n",
       "      <td>2</td>\n",
       "      <td>33</td>\n",
       "      <td>205</td>\n",
       "      <td>...</td>\n",
       "      <td>2328</td>\n",
       "      <td>1075</td>\n",
       "      <td>506</td>\n",
       "      <td>1</td>\n",
       "      <td>191</td>\n",
       "      <td>2</td>\n",
       "      <td>780</td>\n",
       "      <td>112</td>\n",
       "      <td>1533</td>\n",
       "      <td>752</td>\n",
       "    </tr>\n",
       "    <tr>\n",
       "      <td>4</td>\n",
       "      <td>2000-2009</td>\n",
       "      <td>0</td>\n",
       "      <td>1258</td>\n",
       "      <td>550</td>\n",
       "      <td>1176</td>\n",
       "      <td>4024</td>\n",
       "      <td>205</td>\n",
       "      <td>0</td>\n",
       "      <td>144</td>\n",
       "      <td>711</td>\n",
       "      <td>...</td>\n",
       "      <td>9734</td>\n",
       "      <td>3354</td>\n",
       "      <td>2125</td>\n",
       "      <td>0</td>\n",
       "      <td>726</td>\n",
       "      <td>0</td>\n",
       "      <td>2700</td>\n",
       "      <td>485</td>\n",
       "      <td>4444</td>\n",
       "      <td>3533</td>\n",
       "    </tr>\n",
       "  </tbody>\n",
       "</table>\n",
       "<p>5 rows × 30 columns</p>\n",
       "</div>"
      ],
      "text/plain": [
       "           Bin  changed  changing  chevron  cigar  circle  cone  crescent  \\\n",
       "0  Before 1970        0         3        1     18      34     2         0   \n",
       "1    1970-1979        0        35       32    161     298     8         0   \n",
       "2    1980-1989        0        45       47     93     193    10         0   \n",
       "3    1990-1999        1       289      175    324     965    54         2   \n",
       "4    2000-2009        0      1258      550   1176    4024   205         0   \n",
       "\n",
       "   cross  cylinder  ...  light  other  oval  pyramid  rectangle  round  \\\n",
       "0      1        11  ...     44     34    31        0          5      0   \n",
       "1      5        47  ...    360    196   200        0         77      0   \n",
       "2      2        49  ...    286    238   132        0         75      0   \n",
       "3     33       205  ...   2328   1075   506        1        191      2   \n",
       "4    144       711  ...   9734   3354  2125        0        726      0   \n",
       "\n",
       "   sphere  teardrop  triangle  unknown  \n",
       "0      28         1        12       32  \n",
       "1     185        13       256      185  \n",
       "2     196        12       325      183  \n",
       "3     780       112      1533      752  \n",
       "4    2700       485      4444     3533  \n",
       "\n",
       "[5 rows x 30 columns]"
      ]
     },
     "execution_count": 58,
     "metadata": {},
     "output_type": "execute_result"
    }
   ],
   "source": [
    "chartdata_df = pd.read_csv('Shapes_by_decades2.csv')\n",
    "chartdata_df.head()"
   ]
  },
  {
   "cell_type": "code",
   "execution_count": 59,
   "metadata": {},
   "outputs": [
    {
     "data": {
      "text/html": [
       "<div>\n",
       "<style scoped>\n",
       "    .dataframe tbody tr th:only-of-type {\n",
       "        vertical-align: middle;\n",
       "    }\n",
       "\n",
       "    .dataframe tbody tr th {\n",
       "        vertical-align: top;\n",
       "    }\n",
       "\n",
       "    .dataframe thead th {\n",
       "        text-align: right;\n",
       "    }\n",
       "</style>\n",
       "<table border=\"1\" class=\"dataframe\">\n",
       "  <thead>\n",
       "    <tr style=\"text-align: right;\">\n",
       "      <th></th>\n",
       "      <th>Bin</th>\n",
       "      <th>changed</th>\n",
       "      <th>changing</th>\n",
       "      <th>chevron</th>\n",
       "      <th>cigar</th>\n",
       "      <th>circle</th>\n",
       "      <th>cone</th>\n",
       "      <th>crescent</th>\n",
       "      <th>cross</th>\n",
       "      <th>cylinder</th>\n",
       "      <th>...</th>\n",
       "      <th>light</th>\n",
       "      <th>other</th>\n",
       "      <th>oval</th>\n",
       "      <th>pyramid</th>\n",
       "      <th>rectangle</th>\n",
       "      <th>round</th>\n",
       "      <th>sphere</th>\n",
       "      <th>teardrop</th>\n",
       "      <th>triangle</th>\n",
       "      <th>unknown</th>\n",
       "    </tr>\n",
       "  </thead>\n",
       "  <tbody>\n",
       "    <tr>\n",
       "      <td>0</td>\n",
       "      <td>Before 1970</td>\n",
       "      <td>0</td>\n",
       "      <td>3</td>\n",
       "      <td>1</td>\n",
       "      <td>18</td>\n",
       "      <td>34</td>\n",
       "      <td>2</td>\n",
       "      <td>0</td>\n",
       "      <td>1</td>\n",
       "      <td>11</td>\n",
       "      <td>...</td>\n",
       "      <td>44</td>\n",
       "      <td>34</td>\n",
       "      <td>31</td>\n",
       "      <td>0</td>\n",
       "      <td>5</td>\n",
       "      <td>0</td>\n",
       "      <td>28</td>\n",
       "      <td>1</td>\n",
       "      <td>12</td>\n",
       "      <td>32</td>\n",
       "    </tr>\n",
       "    <tr>\n",
       "      <td>1</td>\n",
       "      <td>1970-1979</td>\n",
       "      <td>0</td>\n",
       "      <td>35</td>\n",
       "      <td>32</td>\n",
       "      <td>161</td>\n",
       "      <td>298</td>\n",
       "      <td>8</td>\n",
       "      <td>0</td>\n",
       "      <td>5</td>\n",
       "      <td>47</td>\n",
       "      <td>...</td>\n",
       "      <td>360</td>\n",
       "      <td>196</td>\n",
       "      <td>200</td>\n",
       "      <td>0</td>\n",
       "      <td>77</td>\n",
       "      <td>0</td>\n",
       "      <td>185</td>\n",
       "      <td>13</td>\n",
       "      <td>256</td>\n",
       "      <td>185</td>\n",
       "    </tr>\n",
       "    <tr>\n",
       "      <td>2</td>\n",
       "      <td>1980-1989</td>\n",
       "      <td>0</td>\n",
       "      <td>45</td>\n",
       "      <td>47</td>\n",
       "      <td>93</td>\n",
       "      <td>193</td>\n",
       "      <td>10</td>\n",
       "      <td>0</td>\n",
       "      <td>2</td>\n",
       "      <td>49</td>\n",
       "      <td>...</td>\n",
       "      <td>286</td>\n",
       "      <td>238</td>\n",
       "      <td>132</td>\n",
       "      <td>0</td>\n",
       "      <td>75</td>\n",
       "      <td>0</td>\n",
       "      <td>196</td>\n",
       "      <td>12</td>\n",
       "      <td>325</td>\n",
       "      <td>183</td>\n",
       "    </tr>\n",
       "    <tr>\n",
       "      <td>3</td>\n",
       "      <td>1990-1999</td>\n",
       "      <td>1</td>\n",
       "      <td>289</td>\n",
       "      <td>175</td>\n",
       "      <td>324</td>\n",
       "      <td>965</td>\n",
       "      <td>54</td>\n",
       "      <td>2</td>\n",
       "      <td>33</td>\n",
       "      <td>205</td>\n",
       "      <td>...</td>\n",
       "      <td>2328</td>\n",
       "      <td>1075</td>\n",
       "      <td>506</td>\n",
       "      <td>1</td>\n",
       "      <td>191</td>\n",
       "      <td>2</td>\n",
       "      <td>780</td>\n",
       "      <td>112</td>\n",
       "      <td>1533</td>\n",
       "      <td>752</td>\n",
       "    </tr>\n",
       "    <tr>\n",
       "      <td>4</td>\n",
       "      <td>2000-2009</td>\n",
       "      <td>0</td>\n",
       "      <td>1258</td>\n",
       "      <td>550</td>\n",
       "      <td>1176</td>\n",
       "      <td>4024</td>\n",
       "      <td>205</td>\n",
       "      <td>0</td>\n",
       "      <td>144</td>\n",
       "      <td>711</td>\n",
       "      <td>...</td>\n",
       "      <td>9734</td>\n",
       "      <td>3354</td>\n",
       "      <td>2125</td>\n",
       "      <td>0</td>\n",
       "      <td>726</td>\n",
       "      <td>0</td>\n",
       "      <td>2700</td>\n",
       "      <td>485</td>\n",
       "      <td>4444</td>\n",
       "      <td>3533</td>\n",
       "    </tr>\n",
       "  </tbody>\n",
       "</table>\n",
       "<p>5 rows × 30 columns</p>\n",
       "</div>"
      ],
      "text/plain": [
       "           Bin  changed  changing  chevron  cigar  circle  cone  crescent  \\\n",
       "0  Before 1970        0         3        1     18      34     2         0   \n",
       "1    1970-1979        0        35       32    161     298     8         0   \n",
       "2    1980-1989        0        45       47     93     193    10         0   \n",
       "3    1990-1999        1       289      175    324     965    54         2   \n",
       "4    2000-2009        0      1258      550   1176    4024   205         0   \n",
       "\n",
       "   cross  cylinder  ...  light  other  oval  pyramid  rectangle  round  \\\n",
       "0      1        11  ...     44     34    31        0          5      0   \n",
       "1      5        47  ...    360    196   200        0         77      0   \n",
       "2      2        49  ...    286    238   132        0         75      0   \n",
       "3     33       205  ...   2328   1075   506        1        191      2   \n",
       "4    144       711  ...   9734   3354  2125        0        726      0   \n",
       "\n",
       "   sphere  teardrop  triangle  unknown  \n",
       "0      28         1        12       32  \n",
       "1     185        13       256      185  \n",
       "2     196        12       325      183  \n",
       "3     780       112      1533      752  \n",
       "4    2700       485      4444     3533  \n",
       "\n",
       "[5 rows x 30 columns]"
      ]
     },
     "execution_count": 59,
     "metadata": {},
     "output_type": "execute_result"
    }
   ],
   "source": [
    "bars_df = chartdata_df\n",
    "bars_df.head()"
   ]
  },
  {
   "cell_type": "code",
   "execution_count": 60,
   "metadata": {},
   "outputs": [
    {
     "data": {
      "text/html": [
       "<div>\n",
       "<style scoped>\n",
       "    .dataframe tbody tr th:only-of-type {\n",
       "        vertical-align: middle;\n",
       "    }\n",
       "\n",
       "    .dataframe tbody tr th {\n",
       "        vertical-align: top;\n",
       "    }\n",
       "\n",
       "    .dataframe thead th {\n",
       "        text-align: right;\n",
       "    }\n",
       "</style>\n",
       "<table border=\"1\" class=\"dataframe\">\n",
       "  <thead>\n",
       "    <tr style=\"text-align: right;\">\n",
       "      <th></th>\n",
       "      <th>Bin</th>\n",
       "      <th>changed</th>\n",
       "      <th>changing</th>\n",
       "      <th>chevron</th>\n",
       "      <th>cigar</th>\n",
       "      <th>circle</th>\n",
       "      <th>cone</th>\n",
       "      <th>crescent</th>\n",
       "      <th>cross</th>\n",
       "      <th>cylinder</th>\n",
       "      <th>...</th>\n",
       "      <th>other</th>\n",
       "      <th>oval</th>\n",
       "      <th>pyramid</th>\n",
       "      <th>rectangle</th>\n",
       "      <th>round</th>\n",
       "      <th>sphere</th>\n",
       "      <th>teardrop</th>\n",
       "      <th>triangle</th>\n",
       "      <th>unknown</th>\n",
       "      <th>other_unknown</th>\n",
       "    </tr>\n",
       "  </thead>\n",
       "  <tbody>\n",
       "    <tr>\n",
       "      <td>0</td>\n",
       "      <td>Before 1970</td>\n",
       "      <td>0</td>\n",
       "      <td>3</td>\n",
       "      <td>1</td>\n",
       "      <td>18</td>\n",
       "      <td>34</td>\n",
       "      <td>2</td>\n",
       "      <td>0</td>\n",
       "      <td>1</td>\n",
       "      <td>11</td>\n",
       "      <td>...</td>\n",
       "      <td>34</td>\n",
       "      <td>31</td>\n",
       "      <td>0</td>\n",
       "      <td>5</td>\n",
       "      <td>0</td>\n",
       "      <td>28</td>\n",
       "      <td>1</td>\n",
       "      <td>12</td>\n",
       "      <td>32</td>\n",
       "      <td>66</td>\n",
       "    </tr>\n",
       "    <tr>\n",
       "      <td>1</td>\n",
       "      <td>1970-1979</td>\n",
       "      <td>0</td>\n",
       "      <td>35</td>\n",
       "      <td>32</td>\n",
       "      <td>161</td>\n",
       "      <td>298</td>\n",
       "      <td>8</td>\n",
       "      <td>0</td>\n",
       "      <td>5</td>\n",
       "      <td>47</td>\n",
       "      <td>...</td>\n",
       "      <td>196</td>\n",
       "      <td>200</td>\n",
       "      <td>0</td>\n",
       "      <td>77</td>\n",
       "      <td>0</td>\n",
       "      <td>185</td>\n",
       "      <td>13</td>\n",
       "      <td>256</td>\n",
       "      <td>185</td>\n",
       "      <td>381</td>\n",
       "    </tr>\n",
       "    <tr>\n",
       "      <td>2</td>\n",
       "      <td>1980-1989</td>\n",
       "      <td>0</td>\n",
       "      <td>45</td>\n",
       "      <td>47</td>\n",
       "      <td>93</td>\n",
       "      <td>193</td>\n",
       "      <td>10</td>\n",
       "      <td>0</td>\n",
       "      <td>2</td>\n",
       "      <td>49</td>\n",
       "      <td>...</td>\n",
       "      <td>238</td>\n",
       "      <td>132</td>\n",
       "      <td>0</td>\n",
       "      <td>75</td>\n",
       "      <td>0</td>\n",
       "      <td>196</td>\n",
       "      <td>12</td>\n",
       "      <td>325</td>\n",
       "      <td>183</td>\n",
       "      <td>421</td>\n",
       "    </tr>\n",
       "    <tr>\n",
       "      <td>3</td>\n",
       "      <td>1990-1999</td>\n",
       "      <td>1</td>\n",
       "      <td>289</td>\n",
       "      <td>175</td>\n",
       "      <td>324</td>\n",
       "      <td>965</td>\n",
       "      <td>54</td>\n",
       "      <td>2</td>\n",
       "      <td>33</td>\n",
       "      <td>205</td>\n",
       "      <td>...</td>\n",
       "      <td>1075</td>\n",
       "      <td>506</td>\n",
       "      <td>1</td>\n",
       "      <td>191</td>\n",
       "      <td>2</td>\n",
       "      <td>780</td>\n",
       "      <td>112</td>\n",
       "      <td>1533</td>\n",
       "      <td>752</td>\n",
       "      <td>1827</td>\n",
       "    </tr>\n",
       "    <tr>\n",
       "      <td>4</td>\n",
       "      <td>2000-2009</td>\n",
       "      <td>0</td>\n",
       "      <td>1258</td>\n",
       "      <td>550</td>\n",
       "      <td>1176</td>\n",
       "      <td>4024</td>\n",
       "      <td>205</td>\n",
       "      <td>0</td>\n",
       "      <td>144</td>\n",
       "      <td>711</td>\n",
       "      <td>...</td>\n",
       "      <td>3354</td>\n",
       "      <td>2125</td>\n",
       "      <td>0</td>\n",
       "      <td>726</td>\n",
       "      <td>0</td>\n",
       "      <td>2700</td>\n",
       "      <td>485</td>\n",
       "      <td>4444</td>\n",
       "      <td>3533</td>\n",
       "      <td>6887</td>\n",
       "    </tr>\n",
       "  </tbody>\n",
       "</table>\n",
       "<p>5 rows × 31 columns</p>\n",
       "</div>"
      ],
      "text/plain": [
       "           Bin  changed  changing  chevron  cigar  circle  cone  crescent  \\\n",
       "0  Before 1970        0         3        1     18      34     2         0   \n",
       "1    1970-1979        0        35       32    161     298     8         0   \n",
       "2    1980-1989        0        45       47     93     193    10         0   \n",
       "3    1990-1999        1       289      175    324     965    54         2   \n",
       "4    2000-2009        0      1258      550   1176    4024   205         0   \n",
       "\n",
       "   cross  cylinder  ...  other  oval  pyramid  rectangle  round  sphere  \\\n",
       "0      1        11  ...     34    31        0          5      0      28   \n",
       "1      5        47  ...    196   200        0         77      0     185   \n",
       "2      2        49  ...    238   132        0         75      0     196   \n",
       "3     33       205  ...   1075   506        1        191      2     780   \n",
       "4    144       711  ...   3354  2125        0        726      0    2700   \n",
       "\n",
       "   teardrop  triangle  unknown  other_unknown  \n",
       "0         1        12       32             66  \n",
       "1        13       256      185            381  \n",
       "2        12       325      183            421  \n",
       "3       112      1533      752           1827  \n",
       "4       485      4444     3533           6887  \n",
       "\n",
       "[5 rows x 31 columns]"
      ]
     },
     "execution_count": 60,
     "metadata": {},
     "output_type": "execute_result"
    }
   ],
   "source": [
    "bars_df['other_unknown']=bars_df['other']+bars_df['unknown']\n",
    "bars_df.head()"
   ]
  },
  {
   "cell_type": "code",
   "execution_count": 62,
   "metadata": {},
   "outputs": [
    {
     "data": {
      "text/html": [
       "<div>\n",
       "<style scoped>\n",
       "    .dataframe tbody tr th:only-of-type {\n",
       "        vertical-align: middle;\n",
       "    }\n",
       "\n",
       "    .dataframe tbody tr th {\n",
       "        vertical-align: top;\n",
       "    }\n",
       "\n",
       "    .dataframe thead th {\n",
       "        text-align: right;\n",
       "    }\n",
       "</style>\n",
       "<table border=\"1\" class=\"dataframe\">\n",
       "  <thead>\n",
       "    <tr style=\"text-align: right;\">\n",
       "      <th></th>\n",
       "      <th>Bin</th>\n",
       "      <th>changed</th>\n",
       "      <th>changing</th>\n",
       "      <th>chevron</th>\n",
       "      <th>cigar</th>\n",
       "      <th>circle</th>\n",
       "      <th>cone</th>\n",
       "      <th>crescent</th>\n",
       "      <th>cross</th>\n",
       "      <th>cylinder</th>\n",
       "      <th>...</th>\n",
       "      <th>hexagon</th>\n",
       "      <th>light</th>\n",
       "      <th>oval</th>\n",
       "      <th>pyramid</th>\n",
       "      <th>rectangle</th>\n",
       "      <th>round</th>\n",
       "      <th>sphere</th>\n",
       "      <th>teardrop</th>\n",
       "      <th>triangle</th>\n",
       "      <th>other_unknown</th>\n",
       "    </tr>\n",
       "  </thead>\n",
       "  <tbody>\n",
       "    <tr>\n",
       "      <td>0</td>\n",
       "      <td>Before 1970</td>\n",
       "      <td>0</td>\n",
       "      <td>3</td>\n",
       "      <td>1</td>\n",
       "      <td>18</td>\n",
       "      <td>34</td>\n",
       "      <td>2</td>\n",
       "      <td>0</td>\n",
       "      <td>1</td>\n",
       "      <td>11</td>\n",
       "      <td>...</td>\n",
       "      <td>0</td>\n",
       "      <td>44</td>\n",
       "      <td>31</td>\n",
       "      <td>0</td>\n",
       "      <td>5</td>\n",
       "      <td>0</td>\n",
       "      <td>28</td>\n",
       "      <td>1</td>\n",
       "      <td>12</td>\n",
       "      <td>66</td>\n",
       "    </tr>\n",
       "    <tr>\n",
       "      <td>1</td>\n",
       "      <td>1970-1979</td>\n",
       "      <td>0</td>\n",
       "      <td>35</td>\n",
       "      <td>32</td>\n",
       "      <td>161</td>\n",
       "      <td>298</td>\n",
       "      <td>8</td>\n",
       "      <td>0</td>\n",
       "      <td>5</td>\n",
       "      <td>47</td>\n",
       "      <td>...</td>\n",
       "      <td>0</td>\n",
       "      <td>360</td>\n",
       "      <td>200</td>\n",
       "      <td>0</td>\n",
       "      <td>77</td>\n",
       "      <td>0</td>\n",
       "      <td>185</td>\n",
       "      <td>13</td>\n",
       "      <td>256</td>\n",
       "      <td>381</td>\n",
       "    </tr>\n",
       "    <tr>\n",
       "      <td>2</td>\n",
       "      <td>1980-1989</td>\n",
       "      <td>0</td>\n",
       "      <td>45</td>\n",
       "      <td>47</td>\n",
       "      <td>93</td>\n",
       "      <td>193</td>\n",
       "      <td>10</td>\n",
       "      <td>0</td>\n",
       "      <td>2</td>\n",
       "      <td>49</td>\n",
       "      <td>...</td>\n",
       "      <td>0</td>\n",
       "      <td>286</td>\n",
       "      <td>132</td>\n",
       "      <td>0</td>\n",
       "      <td>75</td>\n",
       "      <td>0</td>\n",
       "      <td>196</td>\n",
       "      <td>12</td>\n",
       "      <td>325</td>\n",
       "      <td>421</td>\n",
       "    </tr>\n",
       "    <tr>\n",
       "      <td>3</td>\n",
       "      <td>1990-1999</td>\n",
       "      <td>1</td>\n",
       "      <td>289</td>\n",
       "      <td>175</td>\n",
       "      <td>324</td>\n",
       "      <td>965</td>\n",
       "      <td>54</td>\n",
       "      <td>2</td>\n",
       "      <td>33</td>\n",
       "      <td>205</td>\n",
       "      <td>...</td>\n",
       "      <td>1</td>\n",
       "      <td>2328</td>\n",
       "      <td>506</td>\n",
       "      <td>1</td>\n",
       "      <td>191</td>\n",
       "      <td>2</td>\n",
       "      <td>780</td>\n",
       "      <td>112</td>\n",
       "      <td>1533</td>\n",
       "      <td>1827</td>\n",
       "    </tr>\n",
       "    <tr>\n",
       "      <td>4</td>\n",
       "      <td>2000-2009</td>\n",
       "      <td>0</td>\n",
       "      <td>1258</td>\n",
       "      <td>550</td>\n",
       "      <td>1176</td>\n",
       "      <td>4024</td>\n",
       "      <td>205</td>\n",
       "      <td>0</td>\n",
       "      <td>144</td>\n",
       "      <td>711</td>\n",
       "      <td>...</td>\n",
       "      <td>0</td>\n",
       "      <td>9734</td>\n",
       "      <td>2125</td>\n",
       "      <td>0</td>\n",
       "      <td>726</td>\n",
       "      <td>0</td>\n",
       "      <td>2700</td>\n",
       "      <td>485</td>\n",
       "      <td>4444</td>\n",
       "      <td>6887</td>\n",
       "    </tr>\n",
       "  </tbody>\n",
       "</table>\n",
       "<p>5 rows × 29 columns</p>\n",
       "</div>"
      ],
      "text/plain": [
       "           Bin  changed  changing  chevron  cigar  circle  cone  crescent  \\\n",
       "0  Before 1970        0         3        1     18      34     2         0   \n",
       "1    1970-1979        0        35       32    161     298     8         0   \n",
       "2    1980-1989        0        45       47     93     193    10         0   \n",
       "3    1990-1999        1       289      175    324     965    54         2   \n",
       "4    2000-2009        0      1258      550   1176    4024   205         0   \n",
       "\n",
       "   cross  cylinder  ...  hexagon  light  oval  pyramid  rectangle  round  \\\n",
       "0      1        11  ...        0     44    31        0          5      0   \n",
       "1      5        47  ...        0    360   200        0         77      0   \n",
       "2      2        49  ...        0    286   132        0         75      0   \n",
       "3     33       205  ...        1   2328   506        1        191      2   \n",
       "4    144       711  ...        0   9734  2125        0        726      0   \n",
       "\n",
       "   sphere  teardrop  triangle  other_unknown  \n",
       "0      28         1        12             66  \n",
       "1     185        13       256            381  \n",
       "2     196        12       325            421  \n",
       "3     780       112      1533           1827  \n",
       "4    2700       485      4444           6887  \n",
       "\n",
       "[5 rows x 29 columns]"
      ]
     },
     "execution_count": 62,
     "metadata": {},
     "output_type": "execute_result"
    }
   ],
   "source": [
    "bars2_df = bars_df.drop(columns=['other', 'unknown'])\n",
    "bars2_df.head()"
   ]
  },
  {
   "cell_type": "code",
   "execution_count": 63,
   "metadata": {},
   "outputs": [
    {
     "data": {
      "text/html": [
       "<div>\n",
       "<style scoped>\n",
       "    .dataframe tbody tr th:only-of-type {\n",
       "        vertical-align: middle;\n",
       "    }\n",
       "\n",
       "    .dataframe tbody tr th {\n",
       "        vertical-align: top;\n",
       "    }\n",
       "\n",
       "    .dataframe thead th {\n",
       "        text-align: right;\n",
       "    }\n",
       "</style>\n",
       "<table border=\"1\" class=\"dataframe\">\n",
       "  <thead>\n",
       "    <tr style=\"text-align: right;\">\n",
       "      <th></th>\n",
       "      <th>Bin</th>\n",
       "      <th>changed</th>\n",
       "      <th>changing</th>\n",
       "      <th>chevron</th>\n",
       "      <th>cigar</th>\n",
       "      <th>circle</th>\n",
       "      <th>cone</th>\n",
       "      <th>crescent</th>\n",
       "      <th>cross</th>\n",
       "      <th>cylinder</th>\n",
       "      <th>...</th>\n",
       "      <th>light</th>\n",
       "      <th>oval</th>\n",
       "      <th>pyramid</th>\n",
       "      <th>rectangle</th>\n",
       "      <th>round</th>\n",
       "      <th>sphere</th>\n",
       "      <th>teardrop</th>\n",
       "      <th>triangle</th>\n",
       "      <th>other_unknown</th>\n",
       "      <th>changing_shape</th>\n",
       "    </tr>\n",
       "  </thead>\n",
       "  <tbody>\n",
       "    <tr>\n",
       "      <td>0</td>\n",
       "      <td>Before 1970</td>\n",
       "      <td>0</td>\n",
       "      <td>3</td>\n",
       "      <td>1</td>\n",
       "      <td>18</td>\n",
       "      <td>34</td>\n",
       "      <td>2</td>\n",
       "      <td>0</td>\n",
       "      <td>1</td>\n",
       "      <td>11</td>\n",
       "      <td>...</td>\n",
       "      <td>44</td>\n",
       "      <td>31</td>\n",
       "      <td>0</td>\n",
       "      <td>5</td>\n",
       "      <td>0</td>\n",
       "      <td>28</td>\n",
       "      <td>1</td>\n",
       "      <td>12</td>\n",
       "      <td>66</td>\n",
       "      <td>3</td>\n",
       "    </tr>\n",
       "    <tr>\n",
       "      <td>1</td>\n",
       "      <td>1970-1979</td>\n",
       "      <td>0</td>\n",
       "      <td>35</td>\n",
       "      <td>32</td>\n",
       "      <td>161</td>\n",
       "      <td>298</td>\n",
       "      <td>8</td>\n",
       "      <td>0</td>\n",
       "      <td>5</td>\n",
       "      <td>47</td>\n",
       "      <td>...</td>\n",
       "      <td>360</td>\n",
       "      <td>200</td>\n",
       "      <td>0</td>\n",
       "      <td>77</td>\n",
       "      <td>0</td>\n",
       "      <td>185</td>\n",
       "      <td>13</td>\n",
       "      <td>256</td>\n",
       "      <td>381</td>\n",
       "      <td>35</td>\n",
       "    </tr>\n",
       "    <tr>\n",
       "      <td>2</td>\n",
       "      <td>1980-1989</td>\n",
       "      <td>0</td>\n",
       "      <td>45</td>\n",
       "      <td>47</td>\n",
       "      <td>93</td>\n",
       "      <td>193</td>\n",
       "      <td>10</td>\n",
       "      <td>0</td>\n",
       "      <td>2</td>\n",
       "      <td>49</td>\n",
       "      <td>...</td>\n",
       "      <td>286</td>\n",
       "      <td>132</td>\n",
       "      <td>0</td>\n",
       "      <td>75</td>\n",
       "      <td>0</td>\n",
       "      <td>196</td>\n",
       "      <td>12</td>\n",
       "      <td>325</td>\n",
       "      <td>421</td>\n",
       "      <td>45</td>\n",
       "    </tr>\n",
       "    <tr>\n",
       "      <td>3</td>\n",
       "      <td>1990-1999</td>\n",
       "      <td>1</td>\n",
       "      <td>289</td>\n",
       "      <td>175</td>\n",
       "      <td>324</td>\n",
       "      <td>965</td>\n",
       "      <td>54</td>\n",
       "      <td>2</td>\n",
       "      <td>33</td>\n",
       "      <td>205</td>\n",
       "      <td>...</td>\n",
       "      <td>2328</td>\n",
       "      <td>506</td>\n",
       "      <td>1</td>\n",
       "      <td>191</td>\n",
       "      <td>2</td>\n",
       "      <td>780</td>\n",
       "      <td>112</td>\n",
       "      <td>1533</td>\n",
       "      <td>1827</td>\n",
       "      <td>290</td>\n",
       "    </tr>\n",
       "    <tr>\n",
       "      <td>4</td>\n",
       "      <td>2000-2009</td>\n",
       "      <td>0</td>\n",
       "      <td>1258</td>\n",
       "      <td>550</td>\n",
       "      <td>1176</td>\n",
       "      <td>4024</td>\n",
       "      <td>205</td>\n",
       "      <td>0</td>\n",
       "      <td>144</td>\n",
       "      <td>711</td>\n",
       "      <td>...</td>\n",
       "      <td>9734</td>\n",
       "      <td>2125</td>\n",
       "      <td>0</td>\n",
       "      <td>726</td>\n",
       "      <td>0</td>\n",
       "      <td>2700</td>\n",
       "      <td>485</td>\n",
       "      <td>4444</td>\n",
       "      <td>6887</td>\n",
       "      <td>1258</td>\n",
       "    </tr>\n",
       "  </tbody>\n",
       "</table>\n",
       "<p>5 rows × 30 columns</p>\n",
       "</div>"
      ],
      "text/plain": [
       "           Bin  changed  changing  chevron  cigar  circle  cone  crescent  \\\n",
       "0  Before 1970        0         3        1     18      34     2         0   \n",
       "1    1970-1979        0        35       32    161     298     8         0   \n",
       "2    1980-1989        0        45       47     93     193    10         0   \n",
       "3    1990-1999        1       289      175    324     965    54         2   \n",
       "4    2000-2009        0      1258      550   1176    4024   205         0   \n",
       "\n",
       "   cross  cylinder  ...  light  oval  pyramid  rectangle  round  sphere  \\\n",
       "0      1        11  ...     44    31        0          5      0      28   \n",
       "1      5        47  ...    360   200        0         77      0     185   \n",
       "2      2        49  ...    286   132        0         75      0     196   \n",
       "3     33       205  ...   2328   506        1        191      2     780   \n",
       "4    144       711  ...   9734  2125        0        726      0    2700   \n",
       "\n",
       "   teardrop  triangle  other_unknown  changing_shape  \n",
       "0         1        12             66               3  \n",
       "1        13       256            381              35  \n",
       "2        12       325            421              45  \n",
       "3       112      1533           1827             290  \n",
       "4       485      4444           6887            1258  \n",
       "\n",
       "[5 rows x 30 columns]"
      ]
     },
     "execution_count": 63,
     "metadata": {},
     "output_type": "execute_result"
    }
   ],
   "source": [
    "bars2_df['changing_shape']=bars2_df['changed']+bars2_df['changing']\n",
    "bars2_df.head()"
   ]
  },
  {
   "cell_type": "code",
   "execution_count": 64,
   "metadata": {},
   "outputs": [
    {
     "data": {
      "text/html": [
       "<div>\n",
       "<style scoped>\n",
       "    .dataframe tbody tr th:only-of-type {\n",
       "        vertical-align: middle;\n",
       "    }\n",
       "\n",
       "    .dataframe tbody tr th {\n",
       "        vertical-align: top;\n",
       "    }\n",
       "\n",
       "    .dataframe thead th {\n",
       "        text-align: right;\n",
       "    }\n",
       "</style>\n",
       "<table border=\"1\" class=\"dataframe\">\n",
       "  <thead>\n",
       "    <tr style=\"text-align: right;\">\n",
       "      <th></th>\n",
       "      <th>Bin</th>\n",
       "      <th>chevron</th>\n",
       "      <th>cigar</th>\n",
       "      <th>circle</th>\n",
       "      <th>cone</th>\n",
       "      <th>crescent</th>\n",
       "      <th>cross</th>\n",
       "      <th>cylinder</th>\n",
       "      <th>delta</th>\n",
       "      <th>diamond</th>\n",
       "      <th>...</th>\n",
       "      <th>light</th>\n",
       "      <th>oval</th>\n",
       "      <th>pyramid</th>\n",
       "      <th>rectangle</th>\n",
       "      <th>round</th>\n",
       "      <th>sphere</th>\n",
       "      <th>teardrop</th>\n",
       "      <th>triangle</th>\n",
       "      <th>other_unknown</th>\n",
       "      <th>changing_shape</th>\n",
       "    </tr>\n",
       "  </thead>\n",
       "  <tbody>\n",
       "    <tr>\n",
       "      <td>0</td>\n",
       "      <td>Before 1970</td>\n",
       "      <td>1</td>\n",
       "      <td>18</td>\n",
       "      <td>34</td>\n",
       "      <td>2</td>\n",
       "      <td>0</td>\n",
       "      <td>1</td>\n",
       "      <td>11</td>\n",
       "      <td>0</td>\n",
       "      <td>1</td>\n",
       "      <td>...</td>\n",
       "      <td>44</td>\n",
       "      <td>31</td>\n",
       "      <td>0</td>\n",
       "      <td>5</td>\n",
       "      <td>0</td>\n",
       "      <td>28</td>\n",
       "      <td>1</td>\n",
       "      <td>12</td>\n",
       "      <td>66</td>\n",
       "      <td>3</td>\n",
       "    </tr>\n",
       "    <tr>\n",
       "      <td>1</td>\n",
       "      <td>1970-1979</td>\n",
       "      <td>32</td>\n",
       "      <td>161</td>\n",
       "      <td>298</td>\n",
       "      <td>8</td>\n",
       "      <td>0</td>\n",
       "      <td>5</td>\n",
       "      <td>47</td>\n",
       "      <td>1</td>\n",
       "      <td>25</td>\n",
       "      <td>...</td>\n",
       "      <td>360</td>\n",
       "      <td>200</td>\n",
       "      <td>0</td>\n",
       "      <td>77</td>\n",
       "      <td>0</td>\n",
       "      <td>185</td>\n",
       "      <td>13</td>\n",
       "      <td>256</td>\n",
       "      <td>381</td>\n",
       "      <td>35</td>\n",
       "    </tr>\n",
       "    <tr>\n",
       "      <td>2</td>\n",
       "      <td>1980-1989</td>\n",
       "      <td>47</td>\n",
       "      <td>93</td>\n",
       "      <td>193</td>\n",
       "      <td>10</td>\n",
       "      <td>0</td>\n",
       "      <td>2</td>\n",
       "      <td>49</td>\n",
       "      <td>0</td>\n",
       "      <td>42</td>\n",
       "      <td>...</td>\n",
       "      <td>286</td>\n",
       "      <td>132</td>\n",
       "      <td>0</td>\n",
       "      <td>75</td>\n",
       "      <td>0</td>\n",
       "      <td>196</td>\n",
       "      <td>12</td>\n",
       "      <td>325</td>\n",
       "      <td>421</td>\n",
       "      <td>45</td>\n",
       "    </tr>\n",
       "    <tr>\n",
       "      <td>3</td>\n",
       "      <td>1990-1999</td>\n",
       "      <td>175</td>\n",
       "      <td>324</td>\n",
       "      <td>965</td>\n",
       "      <td>54</td>\n",
       "      <td>2</td>\n",
       "      <td>33</td>\n",
       "      <td>205</td>\n",
       "      <td>7</td>\n",
       "      <td>195</td>\n",
       "      <td>...</td>\n",
       "      <td>2328</td>\n",
       "      <td>506</td>\n",
       "      <td>1</td>\n",
       "      <td>191</td>\n",
       "      <td>2</td>\n",
       "      <td>780</td>\n",
       "      <td>112</td>\n",
       "      <td>1533</td>\n",
       "      <td>1827</td>\n",
       "      <td>290</td>\n",
       "    </tr>\n",
       "    <tr>\n",
       "      <td>4</td>\n",
       "      <td>2000-2009</td>\n",
       "      <td>550</td>\n",
       "      <td>1176</td>\n",
       "      <td>4024</td>\n",
       "      <td>205</td>\n",
       "      <td>0</td>\n",
       "      <td>144</td>\n",
       "      <td>711</td>\n",
       "      <td>0</td>\n",
       "      <td>692</td>\n",
       "      <td>...</td>\n",
       "      <td>9734</td>\n",
       "      <td>2125</td>\n",
       "      <td>0</td>\n",
       "      <td>726</td>\n",
       "      <td>0</td>\n",
       "      <td>2700</td>\n",
       "      <td>485</td>\n",
       "      <td>4444</td>\n",
       "      <td>6887</td>\n",
       "      <td>1258</td>\n",
       "    </tr>\n",
       "  </tbody>\n",
       "</table>\n",
       "<p>5 rows × 28 columns</p>\n",
       "</div>"
      ],
      "text/plain": [
       "           Bin  chevron  cigar  circle  cone  crescent  cross  cylinder  \\\n",
       "0  Before 1970        1     18      34     2         0      1        11   \n",
       "1    1970-1979       32    161     298     8         0      5        47   \n",
       "2    1980-1989       47     93     193    10         0      2        49   \n",
       "3    1990-1999      175    324     965    54         2     33       205   \n",
       "4    2000-2009      550   1176    4024   205         0    144       711   \n",
       "\n",
       "   delta  diamond  ...  light  oval  pyramid  rectangle  round  sphere  \\\n",
       "0      0        1  ...     44    31        0          5      0      28   \n",
       "1      1       25  ...    360   200        0         77      0     185   \n",
       "2      0       42  ...    286   132        0         75      0     196   \n",
       "3      7      195  ...   2328   506        1        191      2     780   \n",
       "4      0      692  ...   9734  2125        0        726      0    2700   \n",
       "\n",
       "   teardrop  triangle  other_unknown  changing_shape  \n",
       "0         1        12             66               3  \n",
       "1        13       256            381              35  \n",
       "2        12       325            421              45  \n",
       "3       112      1533           1827             290  \n",
       "4       485      4444           6887            1258  \n",
       "\n",
       "[5 rows x 28 columns]"
      ]
     },
     "execution_count": 64,
     "metadata": {},
     "output_type": "execute_result"
    }
   ],
   "source": [
    "bars3_df=bars2_df.drop(['changed', 'changing'], axis=1)\n",
    "bars3_df.head()"
   ]
  },
  {
   "cell_type": "code",
   "execution_count": 66,
   "metadata": {
    "scrolled": true
   },
   "outputs": [
    {
     "data": {
      "text/plain": [
       "Bin               Before 19701970-19791980-19891990-19992000-200...\n",
       "chevron                                                        1274\n",
       "cigar                                                          2513\n",
       "circle                                                        11262\n",
       "cone                                                            464\n",
       "crescent                                                          2\n",
       "cross                                                           340\n",
       "cylinder                                                       1674\n",
       "delta                                                             8\n",
       "diamond                                                        1629\n",
       "disk                                                           6431\n",
       "dome                                                              1\n",
       "egg                                                             977\n",
       "fireball                                                       8577\n",
       "flare                                                             1\n",
       "flash                                                          1954\n",
       "formation                                                      3414\n",
       "hexagon                                                           1\n",
       "light                                                         22504\n",
       "oval                                                           4891\n",
       "pyramid                                                           1\n",
       "rectangle                                                      1826\n",
       "round                                                             2\n",
       "sphere                                                         7209\n",
       "teardrop                                                       1001\n",
       "triangle                                                      10383\n",
       "other_unknown                                                 15286\n",
       "changing_shape                                                 2693\n",
       "dtype: object"
      ]
     },
     "execution_count": 66,
     "metadata": {},
     "output_type": "execute_result"
    }
   ],
   "source": [
    "bars3_df.sum(axis=0)"
   ]
  },
  {
   "cell_type": "code",
   "execution_count": 67,
   "metadata": {},
   "outputs": [
    {
     "data": {
      "text/html": [
       "<div>\n",
       "<style scoped>\n",
       "    .dataframe tbody tr th:only-of-type {\n",
       "        vertical-align: middle;\n",
       "    }\n",
       "\n",
       "    .dataframe tbody tr th {\n",
       "        vertical-align: top;\n",
       "    }\n",
       "\n",
       "    .dataframe thead th {\n",
       "        text-align: right;\n",
       "    }\n",
       "</style>\n",
       "<table border=\"1\" class=\"dataframe\">\n",
       "  <thead>\n",
       "    <tr style=\"text-align: right;\">\n",
       "      <th></th>\n",
       "      <th>Bin</th>\n",
       "      <th>chevron</th>\n",
       "      <th>cigar</th>\n",
       "      <th>circle</th>\n",
       "      <th>cone</th>\n",
       "      <th>cross</th>\n",
       "      <th>cylinder</th>\n",
       "      <th>diamond</th>\n",
       "      <th>disk</th>\n",
       "      <th>egg</th>\n",
       "      <th>...</th>\n",
       "      <th>flash</th>\n",
       "      <th>formation</th>\n",
       "      <th>light</th>\n",
       "      <th>oval</th>\n",
       "      <th>rectangle</th>\n",
       "      <th>sphere</th>\n",
       "      <th>teardrop</th>\n",
       "      <th>triangle</th>\n",
       "      <th>other_unknown</th>\n",
       "      <th>changing_shape</th>\n",
       "    </tr>\n",
       "  </thead>\n",
       "  <tbody>\n",
       "    <tr>\n",
       "      <td>0</td>\n",
       "      <td>Before 1970</td>\n",
       "      <td>1</td>\n",
       "      <td>18</td>\n",
       "      <td>34</td>\n",
       "      <td>2</td>\n",
       "      <td>1</td>\n",
       "      <td>11</td>\n",
       "      <td>1</td>\n",
       "      <td>91</td>\n",
       "      <td>6</td>\n",
       "      <td>...</td>\n",
       "      <td>1</td>\n",
       "      <td>7</td>\n",
       "      <td>44</td>\n",
       "      <td>31</td>\n",
       "      <td>5</td>\n",
       "      <td>28</td>\n",
       "      <td>1</td>\n",
       "      <td>12</td>\n",
       "      <td>66</td>\n",
       "      <td>3</td>\n",
       "    </tr>\n",
       "    <tr>\n",
       "      <td>1</td>\n",
       "      <td>1970-1979</td>\n",
       "      <td>32</td>\n",
       "      <td>161</td>\n",
       "      <td>298</td>\n",
       "      <td>8</td>\n",
       "      <td>5</td>\n",
       "      <td>47</td>\n",
       "      <td>25</td>\n",
       "      <td>653</td>\n",
       "      <td>28</td>\n",
       "      <td>...</td>\n",
       "      <td>16</td>\n",
       "      <td>43</td>\n",
       "      <td>360</td>\n",
       "      <td>200</td>\n",
       "      <td>77</td>\n",
       "      <td>185</td>\n",
       "      <td>13</td>\n",
       "      <td>256</td>\n",
       "      <td>381</td>\n",
       "      <td>35</td>\n",
       "    </tr>\n",
       "    <tr>\n",
       "      <td>2</td>\n",
       "      <td>1980-1989</td>\n",
       "      <td>47</td>\n",
       "      <td>93</td>\n",
       "      <td>193</td>\n",
       "      <td>10</td>\n",
       "      <td>2</td>\n",
       "      <td>49</td>\n",
       "      <td>42</td>\n",
       "      <td>327</td>\n",
       "      <td>29</td>\n",
       "      <td>...</td>\n",
       "      <td>15</td>\n",
       "      <td>59</td>\n",
       "      <td>286</td>\n",
       "      <td>132</td>\n",
       "      <td>75</td>\n",
       "      <td>196</td>\n",
       "      <td>12</td>\n",
       "      <td>325</td>\n",
       "      <td>421</td>\n",
       "      <td>45</td>\n",
       "    </tr>\n",
       "    <tr>\n",
       "      <td>3</td>\n",
       "      <td>1990-1999</td>\n",
       "      <td>175</td>\n",
       "      <td>324</td>\n",
       "      <td>965</td>\n",
       "      <td>54</td>\n",
       "      <td>33</td>\n",
       "      <td>205</td>\n",
       "      <td>195</td>\n",
       "      <td>931</td>\n",
       "      <td>162</td>\n",
       "      <td>...</td>\n",
       "      <td>183</td>\n",
       "      <td>379</td>\n",
       "      <td>2328</td>\n",
       "      <td>506</td>\n",
       "      <td>191</td>\n",
       "      <td>780</td>\n",
       "      <td>112</td>\n",
       "      <td>1533</td>\n",
       "      <td>1827</td>\n",
       "      <td>290</td>\n",
       "    </tr>\n",
       "    <tr>\n",
       "      <td>4</td>\n",
       "      <td>2000-2009</td>\n",
       "      <td>550</td>\n",
       "      <td>1176</td>\n",
       "      <td>4024</td>\n",
       "      <td>205</td>\n",
       "      <td>144</td>\n",
       "      <td>711</td>\n",
       "      <td>692</td>\n",
       "      <td>2798</td>\n",
       "      <td>463</td>\n",
       "      <td>...</td>\n",
       "      <td>819</td>\n",
       "      <td>1348</td>\n",
       "      <td>9734</td>\n",
       "      <td>2125</td>\n",
       "      <td>726</td>\n",
       "      <td>2700</td>\n",
       "      <td>485</td>\n",
       "      <td>4444</td>\n",
       "      <td>6887</td>\n",
       "      <td>1258</td>\n",
       "    </tr>\n",
       "  </tbody>\n",
       "</table>\n",
       "<p>5 rows × 21 columns</p>\n",
       "</div>"
      ],
      "text/plain": [
       "           Bin  chevron  cigar  circle  cone  cross  cylinder  diamond  disk  \\\n",
       "0  Before 1970        1     18      34     2      1        11        1    91   \n",
       "1    1970-1979       32    161     298     8      5        47       25   653   \n",
       "2    1980-1989       47     93     193    10      2        49       42   327   \n",
       "3    1990-1999      175    324     965    54     33       205      195   931   \n",
       "4    2000-2009      550   1176    4024   205    144       711      692  2798   \n",
       "\n",
       "   egg  ...  flash  formation  light  oval  rectangle  sphere  teardrop  \\\n",
       "0    6  ...      1          7     44    31          5      28         1   \n",
       "1   28  ...     16         43    360   200         77     185        13   \n",
       "2   29  ...     15         59    286   132         75     196        12   \n",
       "3  162  ...    183        379   2328   506        191     780       112   \n",
       "4  463  ...    819       1348   9734  2125        726    2700       485   \n",
       "\n",
       "   triangle  other_unknown  changing_shape  \n",
       "0        12             66               3  \n",
       "1       256            381              35  \n",
       "2       325            421              45  \n",
       "3      1533           1827             290  \n",
       "4      4444           6887            1258  \n",
       "\n",
       "[5 rows x 21 columns]"
      ]
     },
     "execution_count": 67,
     "metadata": {},
     "output_type": "execute_result"
    }
   ],
   "source": [
    "bars4_df=bars3_df.drop(['crescent', 'delta','dome','flare','hexagon','pyramid','round'], axis=1)\n",
    "bars4_df.head()"
   ]
  },
  {
   "cell_type": "code",
   "execution_count": 76,
   "metadata": {},
   "outputs": [
    {
     "data": {
      "text/plain": [
       "Index(['Bin', 'cross', 'cone', 'egg', 'teardrop', 'chevron', 'diamond',\n",
       "       'cylinder', 'rectangle', 'flash', 'cigar', 'cigar', 'cigar', 'cigar',\n",
       "       'formation', 'oval', 'disk', 'sphere', 'fireball', 'triangle', 'circle',\n",
       "       'other_unknown', 'light'],\n",
       "      dtype='object')"
      ]
     },
     "execution_count": 76,
     "metadata": {},
     "output_type": "execute_result"
    }
   ],
   "source": [
    "bars4_df.columns"
   ]
  },
  {
   "cell_type": "code",
   "execution_count": 77,
   "metadata": {},
   "outputs": [
    {
     "data": {
      "text/html": [
       "<div>\n",
       "<style scoped>\n",
       "    .dataframe tbody tr th:only-of-type {\n",
       "        vertical-align: middle;\n",
       "    }\n",
       "\n",
       "    .dataframe tbody tr th {\n",
       "        vertical-align: top;\n",
       "    }\n",
       "\n",
       "    .dataframe thead th {\n",
       "        text-align: right;\n",
       "    }\n",
       "</style>\n",
       "<table border=\"1\" class=\"dataframe\">\n",
       "  <thead>\n",
       "    <tr style=\"text-align: right;\">\n",
       "      <th></th>\n",
       "      <th>Bin</th>\n",
       "      <th>cross</th>\n",
       "      <th>cone</th>\n",
       "      <th>egg</th>\n",
       "      <th>teardrop</th>\n",
       "      <th>chevron</th>\n",
       "      <th>diamond</th>\n",
       "      <th>cylinder</th>\n",
       "      <th>rectangle</th>\n",
       "      <th>flash</th>\n",
       "      <th>...</th>\n",
       "      <th>cigar</th>\n",
       "      <th>formation</th>\n",
       "      <th>oval</th>\n",
       "      <th>disk</th>\n",
       "      <th>sphere</th>\n",
       "      <th>fireball</th>\n",
       "      <th>triangle</th>\n",
       "      <th>circle</th>\n",
       "      <th>other_unknown</th>\n",
       "      <th>light</th>\n",
       "    </tr>\n",
       "  </thead>\n",
       "  <tbody>\n",
       "    <tr>\n",
       "      <td>0</td>\n",
       "      <td>Before 1970</td>\n",
       "      <td>1</td>\n",
       "      <td>2</td>\n",
       "      <td>6</td>\n",
       "      <td>1</td>\n",
       "      <td>1</td>\n",
       "      <td>1</td>\n",
       "      <td>11</td>\n",
       "      <td>5</td>\n",
       "      <td>1</td>\n",
       "      <td>...</td>\n",
       "      <td>18</td>\n",
       "      <td>7</td>\n",
       "      <td>31</td>\n",
       "      <td>91</td>\n",
       "      <td>28</td>\n",
       "      <td>4</td>\n",
       "      <td>12</td>\n",
       "      <td>34</td>\n",
       "      <td>66</td>\n",
       "      <td>44</td>\n",
       "    </tr>\n",
       "    <tr>\n",
       "      <td>1</td>\n",
       "      <td>1970-1979</td>\n",
       "      <td>5</td>\n",
       "      <td>8</td>\n",
       "      <td>28</td>\n",
       "      <td>13</td>\n",
       "      <td>32</td>\n",
       "      <td>25</td>\n",
       "      <td>47</td>\n",
       "      <td>77</td>\n",
       "      <td>16</td>\n",
       "      <td>...</td>\n",
       "      <td>161</td>\n",
       "      <td>43</td>\n",
       "      <td>200</td>\n",
       "      <td>653</td>\n",
       "      <td>185</td>\n",
       "      <td>80</td>\n",
       "      <td>256</td>\n",
       "      <td>298</td>\n",
       "      <td>381</td>\n",
       "      <td>360</td>\n",
       "    </tr>\n",
       "    <tr>\n",
       "      <td>2</td>\n",
       "      <td>1980-1989</td>\n",
       "      <td>2</td>\n",
       "      <td>10</td>\n",
       "      <td>29</td>\n",
       "      <td>12</td>\n",
       "      <td>47</td>\n",
       "      <td>42</td>\n",
       "      <td>49</td>\n",
       "      <td>75</td>\n",
       "      <td>15</td>\n",
       "      <td>...</td>\n",
       "      <td>93</td>\n",
       "      <td>59</td>\n",
       "      <td>132</td>\n",
       "      <td>327</td>\n",
       "      <td>196</td>\n",
       "      <td>77</td>\n",
       "      <td>325</td>\n",
       "      <td>193</td>\n",
       "      <td>421</td>\n",
       "      <td>286</td>\n",
       "    </tr>\n",
       "    <tr>\n",
       "      <td>3</td>\n",
       "      <td>1990-1999</td>\n",
       "      <td>33</td>\n",
       "      <td>54</td>\n",
       "      <td>162</td>\n",
       "      <td>112</td>\n",
       "      <td>175</td>\n",
       "      <td>195</td>\n",
       "      <td>205</td>\n",
       "      <td>191</td>\n",
       "      <td>183</td>\n",
       "      <td>...</td>\n",
       "      <td>324</td>\n",
       "      <td>379</td>\n",
       "      <td>506</td>\n",
       "      <td>931</td>\n",
       "      <td>780</td>\n",
       "      <td>974</td>\n",
       "      <td>1533</td>\n",
       "      <td>965</td>\n",
       "      <td>1827</td>\n",
       "      <td>2328</td>\n",
       "    </tr>\n",
       "    <tr>\n",
       "      <td>4</td>\n",
       "      <td>2000-2009</td>\n",
       "      <td>144</td>\n",
       "      <td>205</td>\n",
       "      <td>463</td>\n",
       "      <td>485</td>\n",
       "      <td>550</td>\n",
       "      <td>692</td>\n",
       "      <td>711</td>\n",
       "      <td>726</td>\n",
       "      <td>819</td>\n",
       "      <td>...</td>\n",
       "      <td>1176</td>\n",
       "      <td>1348</td>\n",
       "      <td>2125</td>\n",
       "      <td>2798</td>\n",
       "      <td>2700</td>\n",
       "      <td>2514</td>\n",
       "      <td>4444</td>\n",
       "      <td>4024</td>\n",
       "      <td>6887</td>\n",
       "      <td>9734</td>\n",
       "    </tr>\n",
       "  </tbody>\n",
       "</table>\n",
       "<p>5 rows × 23 columns</p>\n",
       "</div>"
      ],
      "text/plain": [
       "           Bin  cross  cone  egg  teardrop  chevron  diamond  cylinder  \\\n",
       "0  Before 1970      1     2    6         1        1        1        11   \n",
       "1    1970-1979      5     8   28        13       32       25        47   \n",
       "2    1980-1989      2    10   29        12       47       42        49   \n",
       "3    1990-1999     33    54  162       112      175      195       205   \n",
       "4    2000-2009    144   205  463       485      550      692       711   \n",
       "\n",
       "   rectangle  flash  ...  cigar  formation  oval  disk  sphere  fireball  \\\n",
       "0          5      1  ...     18          7    31    91      28         4   \n",
       "1         77     16  ...    161         43   200   653     185        80   \n",
       "2         75     15  ...     93         59   132   327     196        77   \n",
       "3        191    183  ...    324        379   506   931     780       974   \n",
       "4        726    819  ...   1176       1348  2125  2798    2700      2514   \n",
       "\n",
       "   triangle  circle  other_unknown  light  \n",
       "0        12      34             66     44  \n",
       "1       256     298            381    360  \n",
       "2       325     193            421    286  \n",
       "3      1533     965           1827   2328  \n",
       "4      4444    4024           6887   9734  \n",
       "\n",
       "[5 rows x 23 columns]"
      ]
     },
     "execution_count": 77,
     "metadata": {},
     "output_type": "execute_result"
    }
   ],
   "source": [
    "bars4_df=bars4_df[['Bin','cross', 'cone', 'egg', 'teardrop', 'chevron', 'diamond',\n",
    "       'cylinder', 'rectangle', 'flash','cigar', 'formation', 'oval','disk', 'sphere',\n",
    "       'fireball', 'triangle', 'circle', 'other_unknown', 'light']]\n",
    "bars4_df.head()"
   ]
  },
  {
   "cell_type": "code",
   "execution_count": 78,
   "metadata": {},
   "outputs": [
    {
     "data": {
      "text/plain": [
       "Index(['Bin', 'cross', 'cone', 'egg', 'teardrop', 'chevron', 'diamond',\n",
       "       'cylinder', 'rectangle', 'flash', 'cigar', 'cigar', 'cigar', 'cigar',\n",
       "       'formation', 'oval', 'disk', 'sphere', 'fireball', 'triangle', 'circle',\n",
       "       'other_unknown', 'light'],\n",
       "      dtype='object')"
      ]
     },
     "execution_count": 78,
     "metadata": {},
     "output_type": "execute_result"
    }
   ],
   "source": [
    "bars4_df.columns"
   ]
  },
  {
   "cell_type": "code",
   "execution_count": 79,
   "metadata": {},
   "outputs": [
    {
     "data": {
      "text/plain": [
       "Index(['Bin', 'cross', 'cone', 'egg', 'teardrop', 'chevron', 'diamond',\n",
       "       'cylinder', 'rectangle', 'flash', 'formation', 'oval', 'disk', 'sphere',\n",
       "       'fireball', 'triangle', 'circle', 'other_unknown', 'light'],\n",
       "      dtype='object')"
      ]
     },
     "execution_count": 79,
     "metadata": {},
     "output_type": "execute_result"
    }
   ],
   "source": [
    "bars5_df=bars4_df.drop(['cigar', 'cigar','cigar'], axis=1)\n",
    "bars5_df.columns"
   ]
  },
  {
   "cell_type": "code",
   "execution_count": 80,
   "metadata": {},
   "outputs": [
    {
     "data": {
      "text/html": [
       "<div>\n",
       "<style scoped>\n",
       "    .dataframe tbody tr th:only-of-type {\n",
       "        vertical-align: middle;\n",
       "    }\n",
       "\n",
       "    .dataframe tbody tr th {\n",
       "        vertical-align: top;\n",
       "    }\n",
       "\n",
       "    .dataframe thead th {\n",
       "        text-align: right;\n",
       "    }\n",
       "</style>\n",
       "<table border=\"1\" class=\"dataframe\">\n",
       "  <thead>\n",
       "    <tr style=\"text-align: right;\">\n",
       "      <th></th>\n",
       "      <th>Bin</th>\n",
       "      <th>cross</th>\n",
       "      <th>cone</th>\n",
       "      <th>egg</th>\n",
       "      <th>teardrop</th>\n",
       "      <th>chevron</th>\n",
       "      <th>diamond</th>\n",
       "      <th>cylinder</th>\n",
       "      <th>rectangle</th>\n",
       "      <th>flash</th>\n",
       "      <th>formation</th>\n",
       "      <th>oval</th>\n",
       "      <th>disk</th>\n",
       "      <th>sphere</th>\n",
       "      <th>fireball</th>\n",
       "      <th>triangle</th>\n",
       "      <th>circle</th>\n",
       "      <th>other_unknown</th>\n",
       "      <th>light</th>\n",
       "    </tr>\n",
       "  </thead>\n",
       "  <tbody>\n",
       "    <tr>\n",
       "      <td>0</td>\n",
       "      <td>Before 1970</td>\n",
       "      <td>1</td>\n",
       "      <td>2</td>\n",
       "      <td>6</td>\n",
       "      <td>1</td>\n",
       "      <td>1</td>\n",
       "      <td>1</td>\n",
       "      <td>11</td>\n",
       "      <td>5</td>\n",
       "      <td>1</td>\n",
       "      <td>7</td>\n",
       "      <td>31</td>\n",
       "      <td>91</td>\n",
       "      <td>28</td>\n",
       "      <td>4</td>\n",
       "      <td>12</td>\n",
       "      <td>34</td>\n",
       "      <td>66</td>\n",
       "      <td>44</td>\n",
       "    </tr>\n",
       "    <tr>\n",
       "      <td>1</td>\n",
       "      <td>1970-1979</td>\n",
       "      <td>5</td>\n",
       "      <td>8</td>\n",
       "      <td>28</td>\n",
       "      <td>13</td>\n",
       "      <td>32</td>\n",
       "      <td>25</td>\n",
       "      <td>47</td>\n",
       "      <td>77</td>\n",
       "      <td>16</td>\n",
       "      <td>43</td>\n",
       "      <td>200</td>\n",
       "      <td>653</td>\n",
       "      <td>185</td>\n",
       "      <td>80</td>\n",
       "      <td>256</td>\n",
       "      <td>298</td>\n",
       "      <td>381</td>\n",
       "      <td>360</td>\n",
       "    </tr>\n",
       "    <tr>\n",
       "      <td>2</td>\n",
       "      <td>1980-1989</td>\n",
       "      <td>2</td>\n",
       "      <td>10</td>\n",
       "      <td>29</td>\n",
       "      <td>12</td>\n",
       "      <td>47</td>\n",
       "      <td>42</td>\n",
       "      <td>49</td>\n",
       "      <td>75</td>\n",
       "      <td>15</td>\n",
       "      <td>59</td>\n",
       "      <td>132</td>\n",
       "      <td>327</td>\n",
       "      <td>196</td>\n",
       "      <td>77</td>\n",
       "      <td>325</td>\n",
       "      <td>193</td>\n",
       "      <td>421</td>\n",
       "      <td>286</td>\n",
       "    </tr>\n",
       "    <tr>\n",
       "      <td>3</td>\n",
       "      <td>1990-1999</td>\n",
       "      <td>33</td>\n",
       "      <td>54</td>\n",
       "      <td>162</td>\n",
       "      <td>112</td>\n",
       "      <td>175</td>\n",
       "      <td>195</td>\n",
       "      <td>205</td>\n",
       "      <td>191</td>\n",
       "      <td>183</td>\n",
       "      <td>379</td>\n",
       "      <td>506</td>\n",
       "      <td>931</td>\n",
       "      <td>780</td>\n",
       "      <td>974</td>\n",
       "      <td>1533</td>\n",
       "      <td>965</td>\n",
       "      <td>1827</td>\n",
       "      <td>2328</td>\n",
       "    </tr>\n",
       "    <tr>\n",
       "      <td>4</td>\n",
       "      <td>2000-2009</td>\n",
       "      <td>144</td>\n",
       "      <td>205</td>\n",
       "      <td>463</td>\n",
       "      <td>485</td>\n",
       "      <td>550</td>\n",
       "      <td>692</td>\n",
       "      <td>711</td>\n",
       "      <td>726</td>\n",
       "      <td>819</td>\n",
       "      <td>1348</td>\n",
       "      <td>2125</td>\n",
       "      <td>2798</td>\n",
       "      <td>2700</td>\n",
       "      <td>2514</td>\n",
       "      <td>4444</td>\n",
       "      <td>4024</td>\n",
       "      <td>6887</td>\n",
       "      <td>9734</td>\n",
       "    </tr>\n",
       "  </tbody>\n",
       "</table>\n",
       "</div>"
      ],
      "text/plain": [
       "           Bin  cross  cone  egg  teardrop  chevron  diamond  cylinder  \\\n",
       "0  Before 1970      1     2    6         1        1        1        11   \n",
       "1    1970-1979      5     8   28        13       32       25        47   \n",
       "2    1980-1989      2    10   29        12       47       42        49   \n",
       "3    1990-1999     33    54  162       112      175      195       205   \n",
       "4    2000-2009    144   205  463       485      550      692       711   \n",
       "\n",
       "   rectangle  flash  formation  oval  disk  sphere  fireball  triangle  \\\n",
       "0          5      1          7    31    91      28         4        12   \n",
       "1         77     16         43   200   653     185        80       256   \n",
       "2         75     15         59   132   327     196        77       325   \n",
       "3        191    183        379   506   931     780       974      1533   \n",
       "4        726    819       1348  2125  2798    2700      2514      4444   \n",
       "\n",
       "   circle  other_unknown  light  \n",
       "0      34             66     44  \n",
       "1     298            381    360  \n",
       "2     193            421    286  \n",
       "3     965           1827   2328  \n",
       "4    4024           6887   9734  "
      ]
     },
     "execution_count": 80,
     "metadata": {},
     "output_type": "execute_result"
    }
   ],
   "source": [
    "bars5_df.head()"
   ]
  },
  {
   "cell_type": "code",
   "execution_count": 81,
   "metadata": {},
   "outputs": [],
   "source": [
    "bars5_df = barchart_df"
   ]
  },
  {
   "cell_type": "code",
   "execution_count": 82,
   "metadata": {},
   "outputs": [],
   "source": [
    "trace1 = go.Bar(\n",
    "        x = barchart_df['Bin'],\n",
    "        y = barchart_df['cross'],\n",
    "        name = 'Cross')\n",
    "\n",
    "trace2 = go.Bar(\n",
    "        x = barchart_df['Bin'],\n",
    "        y = barchart_df['cone'],\n",
    "        name = 'Cone')\n",
    "\n",
    "trace3 = go.Bar(\n",
    "        x = barchart_df['Bin'],\n",
    "        y = barchart_df['egg'],\n",
    "        name = 'Egg')\n",
    "\n",
    "trace4 = go.Bar(\n",
    "        x = barchart_df['Bin'],\n",
    "        y = barchart_df['teardrop'],\n",
    "        name = 'Teardrop')\n",
    "\n",
    "trace5 = go.Bar(\n",
    "        x = barchart_df['Bin'],\n",
    "        y = barchart_df['chevron'],\n",
    "        name = 'Chevron')\n",
    "\n",
    "trace6 = go.Bar(\n",
    "        x = barchart_df['Bin'],\n",
    "        y = barchart_df['diamond'],\n",
    "        name = 'Diamond')\n",
    "\n",
    "trace7 = go.Bar(\n",
    "        x = barchart_df['Bin'],\n",
    "        y = barchart_df['cylinder'],\n",
    "        name = 'Cylinder')\n",
    "trace8 = go.Bar(\n",
    "        x = barchart_df['Bin'],\n",
    "        y = barchart_df['rectangle'],\n",
    "        name = 'Rectangle')\n",
    "trace9 = go.Bar(\n",
    "        x = barchart_df['Bin'],\n",
    "        y = barchart_df['flash'],\n",
    "        name = 'Flash')\n",
    "trace10 = go.Bar(\n",
    "        x = barchart_df['Bin'],\n",
    "        y = barchart_df['cigar'],\n",
    "        name = 'Cigar')\n",
    "trace11 = go.Bar(\n",
    "        x = barchart_df['Bin'],\n",
    "        y = barchart_df['formation'],\n",
    "        name = 'Formation')\n",
    "trace12 = go.Bar(\n",
    "        x = barchart_df['Bin'],\n",
    "        y = barchart_df['oval'],\n",
    "        name = 'Oval')\n",
    "trace13 = go.Bar(\n",
    "        x = barchart_df['Bin'],\n",
    "        y = barchart_df['disk'],\n",
    "        name = 'Disk')\n",
    "trace14 = go.Bar(\n",
    "        x = barchart_df['Bin'],\n",
    "        y = barchart_df['sphere'],\n",
    "        name = 'Sphere')\n",
    "trace15 = go.Bar(\n",
    "        x = barchart_df['Bin'],\n",
    "        y = barchart_df['fireball'],\n",
    "        name = 'Fireball')\n",
    "trace16 = go.Bar(\n",
    "        x = barchart_df['Bin'],\n",
    "        y = barchart_df['triangle'],\n",
    "        name = 'Triangle')\n",
    "trace17 = go.Bar(\n",
    "        x = barchart_df['Bin'],\n",
    "        y = barchart_df['circle'],\n",
    "        name = 'Circle')\n",
    "trace18 = go.Bar(\n",
    "        x = barchart_df['Bin'],\n",
    "        y = barchart_df['other_unknown'],\n",
    "        name = 'Other or Unknown')\n",
    "trace19 = go.Bar(\n",
    "        x = barchart_df['Bin'],\n",
    "        y = barchart_df['light'],\n",
    "        name = 'Light')\n"
   ]
  },
  {
   "cell_type": "code",
   "execution_count": 89,
   "metadata": {},
   "outputs": [
    {
     "data": {
      "application/vnd.plotly.v1+json": {
       "config": {
        "plotlyServerURL": "https://plot.ly"
       },
       "data": [
        {
         "name": "Cross",
         "type": "bar",
         "x": [
          "Before 1970",
          "1970-1979",
          "1980-1989",
          "1990-1999",
          "2000-2009",
          "2010-2019"
         ],
         "y": [
          1,
          5,
          2,
          33,
          144,
          155
         ]
        },
        {
         "name": "Cone",
         "type": "bar",
         "x": [
          "Before 1970",
          "1970-1979",
          "1980-1989",
          "1990-1999",
          "2000-2009",
          "2010-2019"
         ],
         "y": [
          2,
          8,
          10,
          54,
          205,
          185
         ]
        },
        {
         "name": "Egg",
         "type": "bar",
         "x": [
          "Before 1970",
          "1970-1979",
          "1980-1989",
          "1990-1999",
          "2000-2009",
          "2010-2019"
         ],
         "y": [
          6,
          28,
          29,
          162,
          463,
          289
         ]
        },
        {
         "name": "Teardrop",
         "type": "bar",
         "x": [
          "Before 1970",
          "1970-1979",
          "1980-1989",
          "1990-1999",
          "2000-2009",
          "2010-2019"
         ],
         "y": [
          1,
          13,
          12,
          112,
          485,
          378
         ]
        },
        {
         "name": "Chevron",
         "type": "bar",
         "x": [
          "Before 1970",
          "1970-1979",
          "1980-1989",
          "1990-1999",
          "2000-2009",
          "2010-2019"
         ],
         "y": [
          1,
          32,
          47,
          175,
          550,
          469
         ]
        },
        {
         "name": "Diamond",
         "type": "bar",
         "x": [
          "Before 1970",
          "1970-1979",
          "1980-1989",
          "1990-1999",
          "2000-2009",
          "2010-2019"
         ],
         "y": [
          1,
          25,
          42,
          195,
          692,
          674
         ]
        },
        {
         "name": "Cylinder",
         "type": "bar",
         "x": [
          "Before 1970",
          "1970-1979",
          "1980-1989",
          "1990-1999",
          "2000-2009",
          "2010-2019"
         ],
         "y": [
          11,
          47,
          49,
          205,
          711,
          651
         ]
        },
        {
         "name": "Rectangle",
         "type": "bar",
         "x": [
          "Before 1970",
          "1970-1979",
          "1980-1989",
          "1990-1999",
          "2000-2009",
          "2010-2019"
         ],
         "y": [
          5,
          77,
          75,
          191,
          726,
          752
         ]
        },
        {
         "name": "Flash",
         "type": "bar",
         "x": [
          "Before 1970",
          "1970-1979",
          "1980-1989",
          "1990-1999",
          "2000-2009",
          "2010-2019"
         ],
         "y": [
          1,
          16,
          15,
          183,
          819,
          920
         ]
        },
        {
         "name": "Cigar",
         "type": "bar",
         "x": [
          "Before 1970",
          "1970-1979",
          "1980-1989",
          "1990-1999",
          "2000-2009",
          "2010-2019"
         ],
         "y": [
          18,
          161,
          93,
          324,
          1176,
          741
         ]
        },
        {
         "name": "Formation",
         "type": "bar",
         "x": [
          "Before 1970",
          "1970-1979",
          "1980-1989",
          "1990-1999",
          "2000-2009",
          "2010-2019"
         ],
         "y": [
          7,
          43,
          59,
          379,
          1348,
          1578
         ]
        },
        {
         "name": "Oval",
         "type": "bar",
         "x": [
          "Before 1970",
          "1970-1979",
          "1980-1989",
          "1990-1999",
          "2000-2009",
          "2010-2019"
         ],
         "y": [
          31,
          200,
          132,
          506,
          2125,
          1897
         ]
        },
        {
         "name": "Disk",
         "type": "bar",
         "x": [
          "Before 1970",
          "1970-1979",
          "1980-1989",
          "1990-1999",
          "2000-2009",
          "2010-2019"
         ],
         "y": [
          91,
          653,
          327,
          931,
          2798,
          1631
         ]
        },
        {
         "name": "Sphere",
         "type": "bar",
         "x": [
          "Before 1970",
          "1970-1979",
          "1980-1989",
          "1990-1999",
          "2000-2009",
          "2010-2019"
         ],
         "y": [
          28,
          185,
          196,
          780,
          2700,
          3320
         ]
        },
        {
         "name": "Fireball",
         "type": "bar",
         "x": [
          "Before 1970",
          "1970-1979",
          "1980-1989",
          "1990-1999",
          "2000-2009",
          "2010-2019"
         ],
         "y": [
          4,
          80,
          77,
          974,
          2514,
          4928
         ]
        },
        {
         "name": "Triangle",
         "type": "bar",
         "x": [
          "Before 1970",
          "1970-1979",
          "1980-1989",
          "1990-1999",
          "2000-2009",
          "2010-2019"
         ],
         "y": [
          12,
          256,
          325,
          1533,
          4444,
          3813
         ]
        },
        {
         "name": "Circle",
         "type": "bar",
         "x": [
          "Before 1970",
          "1970-1979",
          "1980-1989",
          "1990-1999",
          "2000-2009",
          "2010-2019"
         ],
         "y": [
          34,
          298,
          193,
          965,
          4024,
          5748
         ]
        },
        {
         "name": "Other or Unknown",
         "type": "bar",
         "x": [
          "Before 1970",
          "1970-1979",
          "1980-1989",
          "1990-1999",
          "2000-2009",
          "2010-2019"
         ],
         "y": [
          66,
          381,
          421,
          1827,
          6887,
          5704
         ]
        },
        {
         "name": "Light",
         "type": "bar",
         "x": [
          "Before 1970",
          "1970-1979",
          "1980-1989",
          "1990-1999",
          "2000-2009",
          "2010-2019"
         ],
         "y": [
          44,
          360,
          286,
          2328,
          9734,
          9752
         ]
        }
       ],
       "layout": {
        "barmode": "stack",
        "template": {
         "data": {
          "bar": [
           {
            "error_x": {
             "color": "#2a3f5f"
            },
            "error_y": {
             "color": "#2a3f5f"
            },
            "marker": {
             "line": {
              "color": "#E5ECF6",
              "width": 0.5
             }
            },
            "type": "bar"
           }
          ],
          "barpolar": [
           {
            "marker": {
             "line": {
              "color": "#E5ECF6",
              "width": 0.5
             }
            },
            "type": "barpolar"
           }
          ],
          "carpet": [
           {
            "aaxis": {
             "endlinecolor": "#2a3f5f",
             "gridcolor": "white",
             "linecolor": "white",
             "minorgridcolor": "white",
             "startlinecolor": "#2a3f5f"
            },
            "baxis": {
             "endlinecolor": "#2a3f5f",
             "gridcolor": "white",
             "linecolor": "white",
             "minorgridcolor": "white",
             "startlinecolor": "#2a3f5f"
            },
            "type": "carpet"
           }
          ],
          "choropleth": [
           {
            "colorbar": {
             "outlinewidth": 0,
             "ticks": ""
            },
            "type": "choropleth"
           }
          ],
          "contour": [
           {
            "colorbar": {
             "outlinewidth": 0,
             "ticks": ""
            },
            "colorscale": [
             [
              0,
              "#0d0887"
             ],
             [
              0.1111111111111111,
              "#46039f"
             ],
             [
              0.2222222222222222,
              "#7201a8"
             ],
             [
              0.3333333333333333,
              "#9c179e"
             ],
             [
              0.4444444444444444,
              "#bd3786"
             ],
             [
              0.5555555555555556,
              "#d8576b"
             ],
             [
              0.6666666666666666,
              "#ed7953"
             ],
             [
              0.7777777777777778,
              "#fb9f3a"
             ],
             [
              0.8888888888888888,
              "#fdca26"
             ],
             [
              1,
              "#f0f921"
             ]
            ],
            "type": "contour"
           }
          ],
          "contourcarpet": [
           {
            "colorbar": {
             "outlinewidth": 0,
             "ticks": ""
            },
            "type": "contourcarpet"
           }
          ],
          "heatmap": [
           {
            "colorbar": {
             "outlinewidth": 0,
             "ticks": ""
            },
            "colorscale": [
             [
              0,
              "#0d0887"
             ],
             [
              0.1111111111111111,
              "#46039f"
             ],
             [
              0.2222222222222222,
              "#7201a8"
             ],
             [
              0.3333333333333333,
              "#9c179e"
             ],
             [
              0.4444444444444444,
              "#bd3786"
             ],
             [
              0.5555555555555556,
              "#d8576b"
             ],
             [
              0.6666666666666666,
              "#ed7953"
             ],
             [
              0.7777777777777778,
              "#fb9f3a"
             ],
             [
              0.8888888888888888,
              "#fdca26"
             ],
             [
              1,
              "#f0f921"
             ]
            ],
            "type": "heatmap"
           }
          ],
          "heatmapgl": [
           {
            "colorbar": {
             "outlinewidth": 0,
             "ticks": ""
            },
            "colorscale": [
             [
              0,
              "#0d0887"
             ],
             [
              0.1111111111111111,
              "#46039f"
             ],
             [
              0.2222222222222222,
              "#7201a8"
             ],
             [
              0.3333333333333333,
              "#9c179e"
             ],
             [
              0.4444444444444444,
              "#bd3786"
             ],
             [
              0.5555555555555556,
              "#d8576b"
             ],
             [
              0.6666666666666666,
              "#ed7953"
             ],
             [
              0.7777777777777778,
              "#fb9f3a"
             ],
             [
              0.8888888888888888,
              "#fdca26"
             ],
             [
              1,
              "#f0f921"
             ]
            ],
            "type": "heatmapgl"
           }
          ],
          "histogram": [
           {
            "marker": {
             "colorbar": {
              "outlinewidth": 0,
              "ticks": ""
             }
            },
            "type": "histogram"
           }
          ],
          "histogram2d": [
           {
            "colorbar": {
             "outlinewidth": 0,
             "ticks": ""
            },
            "colorscale": [
             [
              0,
              "#0d0887"
             ],
             [
              0.1111111111111111,
              "#46039f"
             ],
             [
              0.2222222222222222,
              "#7201a8"
             ],
             [
              0.3333333333333333,
              "#9c179e"
             ],
             [
              0.4444444444444444,
              "#bd3786"
             ],
             [
              0.5555555555555556,
              "#d8576b"
             ],
             [
              0.6666666666666666,
              "#ed7953"
             ],
             [
              0.7777777777777778,
              "#fb9f3a"
             ],
             [
              0.8888888888888888,
              "#fdca26"
             ],
             [
              1,
              "#f0f921"
             ]
            ],
            "type": "histogram2d"
           }
          ],
          "histogram2dcontour": [
           {
            "colorbar": {
             "outlinewidth": 0,
             "ticks": ""
            },
            "colorscale": [
             [
              0,
              "#0d0887"
             ],
             [
              0.1111111111111111,
              "#46039f"
             ],
             [
              0.2222222222222222,
              "#7201a8"
             ],
             [
              0.3333333333333333,
              "#9c179e"
             ],
             [
              0.4444444444444444,
              "#bd3786"
             ],
             [
              0.5555555555555556,
              "#d8576b"
             ],
             [
              0.6666666666666666,
              "#ed7953"
             ],
             [
              0.7777777777777778,
              "#fb9f3a"
             ],
             [
              0.8888888888888888,
              "#fdca26"
             ],
             [
              1,
              "#f0f921"
             ]
            ],
            "type": "histogram2dcontour"
           }
          ],
          "mesh3d": [
           {
            "colorbar": {
             "outlinewidth": 0,
             "ticks": ""
            },
            "type": "mesh3d"
           }
          ],
          "parcoords": [
           {
            "line": {
             "colorbar": {
              "outlinewidth": 0,
              "ticks": ""
             }
            },
            "type": "parcoords"
           }
          ],
          "scatter": [
           {
            "marker": {
             "colorbar": {
              "outlinewidth": 0,
              "ticks": ""
             }
            },
            "type": "scatter"
           }
          ],
          "scatter3d": [
           {
            "line": {
             "colorbar": {
              "outlinewidth": 0,
              "ticks": ""
             }
            },
            "marker": {
             "colorbar": {
              "outlinewidth": 0,
              "ticks": ""
             }
            },
            "type": "scatter3d"
           }
          ],
          "scattercarpet": [
           {
            "marker": {
             "colorbar": {
              "outlinewidth": 0,
              "ticks": ""
             }
            },
            "type": "scattercarpet"
           }
          ],
          "scattergeo": [
           {
            "marker": {
             "colorbar": {
              "outlinewidth": 0,
              "ticks": ""
             }
            },
            "type": "scattergeo"
           }
          ],
          "scattergl": [
           {
            "marker": {
             "colorbar": {
              "outlinewidth": 0,
              "ticks": ""
             }
            },
            "type": "scattergl"
           }
          ],
          "scattermapbox": [
           {
            "marker": {
             "colorbar": {
              "outlinewidth": 0,
              "ticks": ""
             }
            },
            "type": "scattermapbox"
           }
          ],
          "scatterpolar": [
           {
            "marker": {
             "colorbar": {
              "outlinewidth": 0,
              "ticks": ""
             }
            },
            "type": "scatterpolar"
           }
          ],
          "scatterpolargl": [
           {
            "marker": {
             "colorbar": {
              "outlinewidth": 0,
              "ticks": ""
             }
            },
            "type": "scatterpolargl"
           }
          ],
          "scatterternary": [
           {
            "marker": {
             "colorbar": {
              "outlinewidth": 0,
              "ticks": ""
             }
            },
            "type": "scatterternary"
           }
          ],
          "surface": [
           {
            "colorbar": {
             "outlinewidth": 0,
             "ticks": ""
            },
            "colorscale": [
             [
              0,
              "#0d0887"
             ],
             [
              0.1111111111111111,
              "#46039f"
             ],
             [
              0.2222222222222222,
              "#7201a8"
             ],
             [
              0.3333333333333333,
              "#9c179e"
             ],
             [
              0.4444444444444444,
              "#bd3786"
             ],
             [
              0.5555555555555556,
              "#d8576b"
             ],
             [
              0.6666666666666666,
              "#ed7953"
             ],
             [
              0.7777777777777778,
              "#fb9f3a"
             ],
             [
              0.8888888888888888,
              "#fdca26"
             ],
             [
              1,
              "#f0f921"
             ]
            ],
            "type": "surface"
           }
          ],
          "table": [
           {
            "cells": {
             "fill": {
              "color": "#EBF0F8"
             },
             "line": {
              "color": "white"
             }
            },
            "header": {
             "fill": {
              "color": "#C8D4E3"
             },
             "line": {
              "color": "white"
             }
            },
            "type": "table"
           }
          ]
         },
         "layout": {
          "annotationdefaults": {
           "arrowcolor": "#2a3f5f",
           "arrowhead": 0,
           "arrowwidth": 1
          },
          "colorscale": {
           "diverging": [
            [
             0,
             "#8e0152"
            ],
            [
             0.1,
             "#c51b7d"
            ],
            [
             0.2,
             "#de77ae"
            ],
            [
             0.3,
             "#f1b6da"
            ],
            [
             0.4,
             "#fde0ef"
            ],
            [
             0.5,
             "#f7f7f7"
            ],
            [
             0.6,
             "#e6f5d0"
            ],
            [
             0.7,
             "#b8e186"
            ],
            [
             0.8,
             "#7fbc41"
            ],
            [
             0.9,
             "#4d9221"
            ],
            [
             1,
             "#276419"
            ]
           ],
           "sequential": [
            [
             0,
             "#0d0887"
            ],
            [
             0.1111111111111111,
             "#46039f"
            ],
            [
             0.2222222222222222,
             "#7201a8"
            ],
            [
             0.3333333333333333,
             "#9c179e"
            ],
            [
             0.4444444444444444,
             "#bd3786"
            ],
            [
             0.5555555555555556,
             "#d8576b"
            ],
            [
             0.6666666666666666,
             "#ed7953"
            ],
            [
             0.7777777777777778,
             "#fb9f3a"
            ],
            [
             0.8888888888888888,
             "#fdca26"
            ],
            [
             1,
             "#f0f921"
            ]
           ],
           "sequentialminus": [
            [
             0,
             "#0d0887"
            ],
            [
             0.1111111111111111,
             "#46039f"
            ],
            [
             0.2222222222222222,
             "#7201a8"
            ],
            [
             0.3333333333333333,
             "#9c179e"
            ],
            [
             0.4444444444444444,
             "#bd3786"
            ],
            [
             0.5555555555555556,
             "#d8576b"
            ],
            [
             0.6666666666666666,
             "#ed7953"
            ],
            [
             0.7777777777777778,
             "#fb9f3a"
            ],
            [
             0.8888888888888888,
             "#fdca26"
            ],
            [
             1,
             "#f0f921"
            ]
           ]
          },
          "colorway": [
           "#636efa",
           "#EF553B",
           "#00cc96",
           "#ab63fa",
           "#FFA15A",
           "#19d3f3",
           "#FF6692",
           "#B6E880",
           "#FF97FF",
           "#FECB52"
          ],
          "font": {
           "color": "#2a3f5f"
          },
          "geo": {
           "bgcolor": "white",
           "lakecolor": "white",
           "landcolor": "#E5ECF6",
           "showlakes": true,
           "showland": true,
           "subunitcolor": "white"
          },
          "hoverlabel": {
           "align": "left"
          },
          "hovermode": "closest",
          "mapbox": {
           "style": "light"
          },
          "paper_bgcolor": "white",
          "plot_bgcolor": "#E5ECF6",
          "polar": {
           "angularaxis": {
            "gridcolor": "white",
            "linecolor": "white",
            "ticks": ""
           },
           "bgcolor": "#E5ECF6",
           "radialaxis": {
            "gridcolor": "white",
            "linecolor": "white",
            "ticks": ""
           }
          },
          "scene": {
           "xaxis": {
            "backgroundcolor": "#E5ECF6",
            "gridcolor": "white",
            "gridwidth": 2,
            "linecolor": "white",
            "showbackground": true,
            "ticks": "",
            "zerolinecolor": "white"
           },
           "yaxis": {
            "backgroundcolor": "#E5ECF6",
            "gridcolor": "white",
            "gridwidth": 2,
            "linecolor": "white",
            "showbackground": true,
            "ticks": "",
            "zerolinecolor": "white"
           },
           "zaxis": {
            "backgroundcolor": "#E5ECF6",
            "gridcolor": "white",
            "gridwidth": 2,
            "linecolor": "white",
            "showbackground": true,
            "ticks": "",
            "zerolinecolor": "white"
           }
          },
          "shapedefaults": {
           "line": {
            "color": "#2a3f5f"
           }
          },
          "ternary": {
           "aaxis": {
            "gridcolor": "white",
            "linecolor": "white",
            "ticks": ""
           },
           "baxis": {
            "gridcolor": "white",
            "linecolor": "white",
            "ticks": ""
           },
           "bgcolor": "#E5ECF6",
           "caxis": {
            "gridcolor": "white",
            "linecolor": "white",
            "ticks": ""
           }
          },
          "title": {
           "x": 0.05
          },
          "xaxis": {
           "automargin": true,
           "gridcolor": "white",
           "linecolor": "white",
           "ticks": "",
           "zerolinecolor": "white",
           "zerolinewidth": 2
          },
          "yaxis": {
           "automargin": true,
           "gridcolor": "white",
           "linecolor": "white",
           "ticks": "",
           "zerolinecolor": "white",
           "zerolinewidth": 2
          }
         }
        }
       }
      },
      "text/html": [
       "<div>\n",
       "        \n",
       "        \n",
       "            <div id=\"2049e9f9-a5ce-41b5-9f4d-797b16fc1dc5\" class=\"plotly-graph-div\" style=\"height:525px; width:100%;\"></div>\n",
       "            <script type=\"text/javascript\">\n",
       "                require([\"plotly\"], function(Plotly) {\n",
       "                    window.PLOTLYENV=window.PLOTLYENV || {};\n",
       "                    \n",
       "                if (document.getElementById(\"2049e9f9-a5ce-41b5-9f4d-797b16fc1dc5\")) {\n",
       "                    Plotly.newPlot(\n",
       "                        '2049e9f9-a5ce-41b5-9f4d-797b16fc1dc5',\n",
       "                        [{\"name\": \"Cross\", \"type\": \"bar\", \"x\": [\"Before 1970\", \"1970-1979\", \"1980-1989\", \"1990-1999\", \"2000-2009\", \"2010-2019\"], \"y\": [1, 5, 2, 33, 144, 155]}, {\"name\": \"Cone\", \"type\": \"bar\", \"x\": [\"Before 1970\", \"1970-1979\", \"1980-1989\", \"1990-1999\", \"2000-2009\", \"2010-2019\"], \"y\": [2, 8, 10, 54, 205, 185]}, {\"name\": \"Egg\", \"type\": \"bar\", \"x\": [\"Before 1970\", \"1970-1979\", \"1980-1989\", \"1990-1999\", \"2000-2009\", \"2010-2019\"], \"y\": [6, 28, 29, 162, 463, 289]}, {\"name\": \"Teardrop\", \"type\": \"bar\", \"x\": [\"Before 1970\", \"1970-1979\", \"1980-1989\", \"1990-1999\", \"2000-2009\", \"2010-2019\"], \"y\": [1, 13, 12, 112, 485, 378]}, {\"name\": \"Chevron\", \"type\": \"bar\", \"x\": [\"Before 1970\", \"1970-1979\", \"1980-1989\", \"1990-1999\", \"2000-2009\", \"2010-2019\"], \"y\": [1, 32, 47, 175, 550, 469]}, {\"name\": \"Diamond\", \"type\": \"bar\", \"x\": [\"Before 1970\", \"1970-1979\", \"1980-1989\", \"1990-1999\", \"2000-2009\", \"2010-2019\"], \"y\": [1, 25, 42, 195, 692, 674]}, {\"name\": \"Cylinder\", \"type\": \"bar\", \"x\": [\"Before 1970\", \"1970-1979\", \"1980-1989\", \"1990-1999\", \"2000-2009\", \"2010-2019\"], \"y\": [11, 47, 49, 205, 711, 651]}, {\"name\": \"Rectangle\", \"type\": \"bar\", \"x\": [\"Before 1970\", \"1970-1979\", \"1980-1989\", \"1990-1999\", \"2000-2009\", \"2010-2019\"], \"y\": [5, 77, 75, 191, 726, 752]}, {\"name\": \"Flash\", \"type\": \"bar\", \"x\": [\"Before 1970\", \"1970-1979\", \"1980-1989\", \"1990-1999\", \"2000-2009\", \"2010-2019\"], \"y\": [1, 16, 15, 183, 819, 920]}, {\"name\": \"Cigar\", \"type\": \"bar\", \"x\": [\"Before 1970\", \"1970-1979\", \"1980-1989\", \"1990-1999\", \"2000-2009\", \"2010-2019\"], \"y\": [18, 161, 93, 324, 1176, 741]}, {\"name\": \"Formation\", \"type\": \"bar\", \"x\": [\"Before 1970\", \"1970-1979\", \"1980-1989\", \"1990-1999\", \"2000-2009\", \"2010-2019\"], \"y\": [7, 43, 59, 379, 1348, 1578]}, {\"name\": \"Oval\", \"type\": \"bar\", \"x\": [\"Before 1970\", \"1970-1979\", \"1980-1989\", \"1990-1999\", \"2000-2009\", \"2010-2019\"], \"y\": [31, 200, 132, 506, 2125, 1897]}, {\"name\": \"Disk\", \"type\": \"bar\", \"x\": [\"Before 1970\", \"1970-1979\", \"1980-1989\", \"1990-1999\", \"2000-2009\", \"2010-2019\"], \"y\": [91, 653, 327, 931, 2798, 1631]}, {\"name\": \"Sphere\", \"type\": \"bar\", \"x\": [\"Before 1970\", \"1970-1979\", \"1980-1989\", \"1990-1999\", \"2000-2009\", \"2010-2019\"], \"y\": [28, 185, 196, 780, 2700, 3320]}, {\"name\": \"Fireball\", \"type\": \"bar\", \"x\": [\"Before 1970\", \"1970-1979\", \"1980-1989\", \"1990-1999\", \"2000-2009\", \"2010-2019\"], \"y\": [4, 80, 77, 974, 2514, 4928]}, {\"name\": \"Triangle\", \"type\": \"bar\", \"x\": [\"Before 1970\", \"1970-1979\", \"1980-1989\", \"1990-1999\", \"2000-2009\", \"2010-2019\"], \"y\": [12, 256, 325, 1533, 4444, 3813]}, {\"name\": \"Circle\", \"type\": \"bar\", \"x\": [\"Before 1970\", \"1970-1979\", \"1980-1989\", \"1990-1999\", \"2000-2009\", \"2010-2019\"], \"y\": [34, 298, 193, 965, 4024, 5748]}, {\"name\": \"Other or Unknown\", \"type\": \"bar\", \"x\": [\"Before 1970\", \"1970-1979\", \"1980-1989\", \"1990-1999\", \"2000-2009\", \"2010-2019\"], \"y\": [66, 381, 421, 1827, 6887, 5704]}, {\"name\": \"Light\", \"type\": \"bar\", \"x\": [\"Before 1970\", \"1970-1979\", \"1980-1989\", \"1990-1999\", \"2000-2009\", \"2010-2019\"], \"y\": [44, 360, 286, 2328, 9734, 9752]}],\n",
       "                        {\"barmode\": \"stack\", \"template\": {\"data\": {\"bar\": [{\"error_x\": {\"color\": \"#2a3f5f\"}, \"error_y\": {\"color\": \"#2a3f5f\"}, \"marker\": {\"line\": {\"color\": \"#E5ECF6\", \"width\": 0.5}}, \"type\": \"bar\"}], \"barpolar\": [{\"marker\": {\"line\": {\"color\": \"#E5ECF6\", \"width\": 0.5}}, \"type\": \"barpolar\"}], \"carpet\": [{\"aaxis\": {\"endlinecolor\": \"#2a3f5f\", \"gridcolor\": \"white\", \"linecolor\": \"white\", \"minorgridcolor\": \"white\", \"startlinecolor\": \"#2a3f5f\"}, \"baxis\": {\"endlinecolor\": \"#2a3f5f\", \"gridcolor\": \"white\", \"linecolor\": \"white\", \"minorgridcolor\": \"white\", \"startlinecolor\": \"#2a3f5f\"}, \"type\": \"carpet\"}], \"choropleth\": [{\"colorbar\": {\"outlinewidth\": 0, \"ticks\": \"\"}, \"type\": \"choropleth\"}], \"contour\": [{\"colorbar\": {\"outlinewidth\": 0, \"ticks\": \"\"}, \"colorscale\": [[0.0, \"#0d0887\"], [0.1111111111111111, \"#46039f\"], [0.2222222222222222, \"#7201a8\"], [0.3333333333333333, \"#9c179e\"], [0.4444444444444444, \"#bd3786\"], [0.5555555555555556, \"#d8576b\"], [0.6666666666666666, \"#ed7953\"], [0.7777777777777778, \"#fb9f3a\"], [0.8888888888888888, \"#fdca26\"], [1.0, \"#f0f921\"]], \"type\": \"contour\"}], \"contourcarpet\": [{\"colorbar\": {\"outlinewidth\": 0, \"ticks\": \"\"}, \"type\": \"contourcarpet\"}], \"heatmap\": [{\"colorbar\": {\"outlinewidth\": 0, \"ticks\": \"\"}, \"colorscale\": [[0.0, \"#0d0887\"], [0.1111111111111111, \"#46039f\"], [0.2222222222222222, \"#7201a8\"], [0.3333333333333333, \"#9c179e\"], [0.4444444444444444, \"#bd3786\"], [0.5555555555555556, \"#d8576b\"], [0.6666666666666666, \"#ed7953\"], [0.7777777777777778, \"#fb9f3a\"], [0.8888888888888888, \"#fdca26\"], [1.0, \"#f0f921\"]], \"type\": \"heatmap\"}], \"heatmapgl\": [{\"colorbar\": {\"outlinewidth\": 0, \"ticks\": \"\"}, \"colorscale\": [[0.0, \"#0d0887\"], [0.1111111111111111, \"#46039f\"], [0.2222222222222222, \"#7201a8\"], [0.3333333333333333, \"#9c179e\"], [0.4444444444444444, \"#bd3786\"], [0.5555555555555556, \"#d8576b\"], [0.6666666666666666, \"#ed7953\"], [0.7777777777777778, \"#fb9f3a\"], [0.8888888888888888, \"#fdca26\"], [1.0, \"#f0f921\"]], \"type\": \"heatmapgl\"}], \"histogram\": [{\"marker\": {\"colorbar\": {\"outlinewidth\": 0, \"ticks\": \"\"}}, \"type\": \"histogram\"}], \"histogram2d\": [{\"colorbar\": {\"outlinewidth\": 0, \"ticks\": \"\"}, \"colorscale\": [[0.0, \"#0d0887\"], [0.1111111111111111, \"#46039f\"], [0.2222222222222222, \"#7201a8\"], [0.3333333333333333, \"#9c179e\"], [0.4444444444444444, \"#bd3786\"], [0.5555555555555556, \"#d8576b\"], [0.6666666666666666, \"#ed7953\"], [0.7777777777777778, \"#fb9f3a\"], [0.8888888888888888, \"#fdca26\"], [1.0, \"#f0f921\"]], \"type\": \"histogram2d\"}], \"histogram2dcontour\": [{\"colorbar\": {\"outlinewidth\": 0, \"ticks\": \"\"}, \"colorscale\": [[0.0, \"#0d0887\"], [0.1111111111111111, \"#46039f\"], [0.2222222222222222, \"#7201a8\"], [0.3333333333333333, \"#9c179e\"], [0.4444444444444444, \"#bd3786\"], [0.5555555555555556, \"#d8576b\"], [0.6666666666666666, \"#ed7953\"], [0.7777777777777778, \"#fb9f3a\"], [0.8888888888888888, \"#fdca26\"], [1.0, \"#f0f921\"]], \"type\": \"histogram2dcontour\"}], \"mesh3d\": [{\"colorbar\": {\"outlinewidth\": 0, \"ticks\": \"\"}, \"type\": \"mesh3d\"}], \"parcoords\": [{\"line\": {\"colorbar\": {\"outlinewidth\": 0, \"ticks\": \"\"}}, \"type\": \"parcoords\"}], \"scatter\": [{\"marker\": {\"colorbar\": {\"outlinewidth\": 0, \"ticks\": \"\"}}, \"type\": \"scatter\"}], \"scatter3d\": [{\"line\": {\"colorbar\": {\"outlinewidth\": 0, \"ticks\": \"\"}}, \"marker\": {\"colorbar\": {\"outlinewidth\": 0, \"ticks\": \"\"}}, \"type\": \"scatter3d\"}], \"scattercarpet\": [{\"marker\": {\"colorbar\": {\"outlinewidth\": 0, \"ticks\": \"\"}}, \"type\": \"scattercarpet\"}], \"scattergeo\": [{\"marker\": {\"colorbar\": {\"outlinewidth\": 0, \"ticks\": \"\"}}, \"type\": \"scattergeo\"}], \"scattergl\": [{\"marker\": {\"colorbar\": {\"outlinewidth\": 0, \"ticks\": \"\"}}, \"type\": \"scattergl\"}], \"scattermapbox\": [{\"marker\": {\"colorbar\": {\"outlinewidth\": 0, \"ticks\": \"\"}}, \"type\": \"scattermapbox\"}], \"scatterpolar\": [{\"marker\": {\"colorbar\": {\"outlinewidth\": 0, \"ticks\": \"\"}}, \"type\": \"scatterpolar\"}], \"scatterpolargl\": [{\"marker\": {\"colorbar\": {\"outlinewidth\": 0, \"ticks\": \"\"}}, \"type\": \"scatterpolargl\"}], \"scatterternary\": [{\"marker\": {\"colorbar\": {\"outlinewidth\": 0, \"ticks\": \"\"}}, \"type\": \"scatterternary\"}], \"surface\": [{\"colorbar\": {\"outlinewidth\": 0, \"ticks\": \"\"}, \"colorscale\": [[0.0, \"#0d0887\"], [0.1111111111111111, \"#46039f\"], [0.2222222222222222, \"#7201a8\"], [0.3333333333333333, \"#9c179e\"], [0.4444444444444444, \"#bd3786\"], [0.5555555555555556, \"#d8576b\"], [0.6666666666666666, \"#ed7953\"], [0.7777777777777778, \"#fb9f3a\"], [0.8888888888888888, \"#fdca26\"], [1.0, \"#f0f921\"]], \"type\": \"surface\"}], \"table\": [{\"cells\": {\"fill\": {\"color\": \"#EBF0F8\"}, \"line\": {\"color\": \"white\"}}, \"header\": {\"fill\": {\"color\": \"#C8D4E3\"}, \"line\": {\"color\": \"white\"}}, \"type\": \"table\"}]}, \"layout\": {\"annotationdefaults\": {\"arrowcolor\": \"#2a3f5f\", \"arrowhead\": 0, \"arrowwidth\": 1}, \"colorscale\": {\"diverging\": [[0, \"#8e0152\"], [0.1, \"#c51b7d\"], [0.2, \"#de77ae\"], [0.3, \"#f1b6da\"], [0.4, \"#fde0ef\"], [0.5, \"#f7f7f7\"], [0.6, \"#e6f5d0\"], [0.7, \"#b8e186\"], [0.8, \"#7fbc41\"], [0.9, \"#4d9221\"], [1, \"#276419\"]], \"sequential\": [[0.0, \"#0d0887\"], [0.1111111111111111, \"#46039f\"], [0.2222222222222222, \"#7201a8\"], [0.3333333333333333, \"#9c179e\"], [0.4444444444444444, \"#bd3786\"], [0.5555555555555556, \"#d8576b\"], [0.6666666666666666, \"#ed7953\"], [0.7777777777777778, \"#fb9f3a\"], [0.8888888888888888, \"#fdca26\"], [1.0, \"#f0f921\"]], \"sequentialminus\": [[0.0, \"#0d0887\"], [0.1111111111111111, \"#46039f\"], [0.2222222222222222, \"#7201a8\"], [0.3333333333333333, \"#9c179e\"], [0.4444444444444444, \"#bd3786\"], [0.5555555555555556, \"#d8576b\"], [0.6666666666666666, \"#ed7953\"], [0.7777777777777778, \"#fb9f3a\"], [0.8888888888888888, \"#fdca26\"], [1.0, \"#f0f921\"]]}, \"colorway\": [\"#636efa\", \"#EF553B\", \"#00cc96\", \"#ab63fa\", \"#FFA15A\", \"#19d3f3\", \"#FF6692\", \"#B6E880\", \"#FF97FF\", \"#FECB52\"], \"font\": {\"color\": \"#2a3f5f\"}, \"geo\": {\"bgcolor\": \"white\", \"lakecolor\": \"white\", \"landcolor\": \"#E5ECF6\", \"showlakes\": true, \"showland\": true, \"subunitcolor\": \"white\"}, \"hoverlabel\": {\"align\": \"left\"}, \"hovermode\": \"closest\", \"mapbox\": {\"style\": \"light\"}, \"paper_bgcolor\": \"white\", \"plot_bgcolor\": \"#E5ECF6\", \"polar\": {\"angularaxis\": {\"gridcolor\": \"white\", \"linecolor\": \"white\", \"ticks\": \"\"}, \"bgcolor\": \"#E5ECF6\", \"radialaxis\": {\"gridcolor\": \"white\", \"linecolor\": \"white\", \"ticks\": \"\"}}, \"scene\": {\"xaxis\": {\"backgroundcolor\": \"#E5ECF6\", \"gridcolor\": \"white\", \"gridwidth\": 2, \"linecolor\": \"white\", \"showbackground\": true, \"ticks\": \"\", \"zerolinecolor\": \"white\"}, \"yaxis\": {\"backgroundcolor\": \"#E5ECF6\", \"gridcolor\": \"white\", \"gridwidth\": 2, \"linecolor\": \"white\", \"showbackground\": true, \"ticks\": \"\", \"zerolinecolor\": \"white\"}, \"zaxis\": {\"backgroundcolor\": \"#E5ECF6\", \"gridcolor\": \"white\", \"gridwidth\": 2, \"linecolor\": \"white\", \"showbackground\": true, \"ticks\": \"\", \"zerolinecolor\": \"white\"}}, \"shapedefaults\": {\"line\": {\"color\": \"#2a3f5f\"}}, \"ternary\": {\"aaxis\": {\"gridcolor\": \"white\", \"linecolor\": \"white\", \"ticks\": \"\"}, \"baxis\": {\"gridcolor\": \"white\", \"linecolor\": \"white\", \"ticks\": \"\"}, \"bgcolor\": \"#E5ECF6\", \"caxis\": {\"gridcolor\": \"white\", \"linecolor\": \"white\", \"ticks\": \"\"}}, \"title\": {\"x\": 0.05}, \"xaxis\": {\"automargin\": true, \"gridcolor\": \"white\", \"linecolor\": \"white\", \"ticks\": \"\", \"zerolinecolor\": \"white\", \"zerolinewidth\": 2}, \"yaxis\": {\"automargin\": true, \"gridcolor\": \"white\", \"linecolor\": \"white\", \"ticks\": \"\", \"zerolinecolor\": \"white\", \"zerolinewidth\": 2}}}},\n",
       "                        {\"responsive\": true}\n",
       "                    ).then(function(){\n",
       "                            \n",
       "var gd = document.getElementById('2049e9f9-a5ce-41b5-9f4d-797b16fc1dc5');\n",
       "var x = new MutationObserver(function (mutations, observer) {{\n",
       "        var display = window.getComputedStyle(gd).display;\n",
       "        if (!display || display === 'none') {{\n",
       "            console.log([gd, 'removed!']);\n",
       "            Plotly.purge(gd);\n",
       "            observer.disconnect();\n",
       "        }}\n",
       "}});\n",
       "\n",
       "// Listen for the removal of the full notebook cells\n",
       "var notebookContainer = gd.closest('#notebook-container');\n",
       "if (notebookContainer) {{\n",
       "    x.observe(notebookContainer, {childList: true});\n",
       "}}\n",
       "\n",
       "// Listen for the clearing of the current output cell\n",
       "var outputEl = gd.closest('.output');\n",
       "if (outputEl) {{\n",
       "    x.observe(outputEl, {childList: true});\n",
       "}}\n",
       "\n",
       "                        })\n",
       "                };\n",
       "                });\n",
       "            </script>\n",
       "        </div>"
      ]
     },
     "metadata": {},
     "output_type": "display_data"
    }
   ],
   "source": [
    "data = [trace1, trace2, trace3, trace4, trace5, trace6, trace7, trace8, trace9, trace10, trace11, trace12, trace13, trace14, trace15, trace16, trace17, trace18, trace19]\n",
    "layout = go.Layout(barmode='stack')\n",
    "\n",
    "fig = go.Figure(data=data,layout=layout)\n",
    "fig.show()"
   ]
  },
  {
   "cell_type": "code",
   "execution_count": 93,
   "metadata": {},
   "outputs": [
    {
     "data": {
      "application/vnd.plotly.v1+json": {
       "config": {
        "plotlyServerURL": "https://plot.ly"
       },
       "data": [
        {
         "name": "Cross",
         "type": "bar",
         "x": [
          "Before 1970",
          "1970-1979",
          "1980-1989",
          "1990-1999",
          "2000-2009",
          "2010-2019"
         ],
         "y": [
          1,
          5,
          2,
          33,
          144,
          155
         ]
        },
        {
         "name": "Cone",
         "type": "bar",
         "x": [
          "Before 1970",
          "1970-1979",
          "1980-1989",
          "1990-1999",
          "2000-2009",
          "2010-2019"
         ],
         "y": [
          2,
          8,
          10,
          54,
          205,
          185
         ]
        },
        {
         "name": "Egg",
         "type": "bar",
         "x": [
          "Before 1970",
          "1970-1979",
          "1980-1989",
          "1990-1999",
          "2000-2009",
          "2010-2019"
         ],
         "y": [
          6,
          28,
          29,
          162,
          463,
          289
         ]
        },
        {
         "name": "Teardrop",
         "type": "bar",
         "x": [
          "Before 1970",
          "1970-1979",
          "1980-1989",
          "1990-1999",
          "2000-2009",
          "2010-2019"
         ],
         "y": [
          1,
          13,
          12,
          112,
          485,
          378
         ]
        },
        {
         "name": "Chevron",
         "type": "bar",
         "x": [
          "Before 1970",
          "1970-1979",
          "1980-1989",
          "1990-1999",
          "2000-2009",
          "2010-2019"
         ],
         "y": [
          1,
          32,
          47,
          175,
          550,
          469
         ]
        },
        {
         "name": "Diamond",
         "type": "bar",
         "x": [
          "Before 1970",
          "1970-1979",
          "1980-1989",
          "1990-1999",
          "2000-2009",
          "2010-2019"
         ],
         "y": [
          1,
          25,
          42,
          195,
          692,
          674
         ]
        },
        {
         "name": "Cylinder",
         "type": "bar",
         "x": [
          "Before 1970",
          "1970-1979",
          "1980-1989",
          "1990-1999",
          "2000-2009",
          "2010-2019"
         ],
         "y": [
          11,
          47,
          49,
          205,
          711,
          651
         ]
        },
        {
         "name": "Rectangle",
         "type": "bar",
         "x": [
          "Before 1970",
          "1970-1979",
          "1980-1989",
          "1990-1999",
          "2000-2009",
          "2010-2019"
         ],
         "y": [
          5,
          77,
          75,
          191,
          726,
          752
         ]
        },
        {
         "name": "Flash",
         "type": "bar",
         "x": [
          "Before 1970",
          "1970-1979",
          "1980-1989",
          "1990-1999",
          "2000-2009",
          "2010-2019"
         ],
         "y": [
          1,
          16,
          15,
          183,
          819,
          920
         ]
        },
        {
         "name": "Cigar",
         "type": "bar",
         "x": [
          "Before 1970",
          "1970-1979",
          "1980-1989",
          "1990-1999",
          "2000-2009",
          "2010-2019"
         ],
         "y": [
          18,
          161,
          93,
          324,
          1176,
          741
         ]
        },
        {
         "name": "Formation",
         "type": "bar",
         "x": [
          "Before 1970",
          "1970-1979",
          "1980-1989",
          "1990-1999",
          "2000-2009",
          "2010-2019"
         ],
         "y": [
          7,
          43,
          59,
          379,
          1348,
          1578
         ]
        },
        {
         "name": "Oval",
         "type": "bar",
         "x": [
          "Before 1970",
          "1970-1979",
          "1980-1989",
          "1990-1999",
          "2000-2009",
          "2010-2019"
         ],
         "y": [
          31,
          200,
          132,
          506,
          2125,
          1897
         ]
        },
        {
         "name": "Disk",
         "type": "bar",
         "x": [
          "Before 1970",
          "1970-1979",
          "1980-1989",
          "1990-1999",
          "2000-2009",
          "2010-2019"
         ],
         "y": [
          91,
          653,
          327,
          931,
          2798,
          1631
         ]
        },
        {
         "name": "Sphere",
         "type": "bar",
         "x": [
          "Before 1970",
          "1970-1979",
          "1980-1989",
          "1990-1999",
          "2000-2009",
          "2010-2019"
         ],
         "y": [
          28,
          185,
          196,
          780,
          2700,
          3320
         ]
        },
        {
         "name": "Fireball",
         "type": "bar",
         "x": [
          "Before 1970",
          "1970-1979",
          "1980-1989",
          "1990-1999",
          "2000-2009",
          "2010-2019"
         ],
         "y": [
          4,
          80,
          77,
          974,
          2514,
          4928
         ]
        },
        {
         "name": "Triangle",
         "type": "bar",
         "x": [
          "Before 1970",
          "1970-1979",
          "1980-1989",
          "1990-1999",
          "2000-2009",
          "2010-2019"
         ],
         "y": [
          12,
          256,
          325,
          1533,
          4444,
          3813
         ]
        },
        {
         "name": "Circle",
         "type": "bar",
         "x": [
          "Before 1970",
          "1970-1979",
          "1980-1989",
          "1990-1999",
          "2000-2009",
          "2010-2019"
         ],
         "y": [
          34,
          298,
          193,
          965,
          4024,
          5748
         ]
        },
        {
         "name": "Other or Unknown",
         "type": "bar",
         "x": [
          "Before 1970",
          "1970-1979",
          "1980-1989",
          "1990-1999",
          "2000-2009",
          "2010-2019"
         ],
         "y": [
          66,
          381,
          421,
          1827,
          6887,
          5704
         ]
        },
        {
         "name": "Light",
         "type": "bar",
         "x": [
          "Before 1970",
          "1970-1979",
          "1980-1989",
          "1990-1999",
          "2000-2009",
          "2010-2019"
         ],
         "y": [
          44,
          360,
          286,
          2328,
          9734,
          9752
         ]
        }
       ],
       "layout": {
        "barmode": "stack",
        "template": {
         "data": {
          "bar": [
           {
            "error_x": {
             "color": "#f2f5fa"
            },
            "error_y": {
             "color": "#f2f5fa"
            },
            "marker": {
             "line": {
              "color": "rgb(17,17,17)",
              "width": 0.5
             }
            },
            "type": "bar"
           }
          ],
          "barpolar": [
           {
            "marker": {
             "line": {
              "color": "rgb(17,17,17)",
              "width": 0.5
             }
            },
            "type": "barpolar"
           }
          ],
          "carpet": [
           {
            "aaxis": {
             "endlinecolor": "#A2B1C6",
             "gridcolor": "#506784",
             "linecolor": "#506784",
             "minorgridcolor": "#506784",
             "startlinecolor": "#A2B1C6"
            },
            "baxis": {
             "endlinecolor": "#A2B1C6",
             "gridcolor": "#506784",
             "linecolor": "#506784",
             "minorgridcolor": "#506784",
             "startlinecolor": "#A2B1C6"
            },
            "type": "carpet"
           }
          ],
          "choropleth": [
           {
            "colorbar": {
             "outlinewidth": 0,
             "ticks": ""
            },
            "type": "choropleth"
           }
          ],
          "contour": [
           {
            "colorbar": {
             "outlinewidth": 0,
             "ticks": ""
            },
            "colorscale": [
             [
              0,
              "#0d0887"
             ],
             [
              0.1111111111111111,
              "#46039f"
             ],
             [
              0.2222222222222222,
              "#7201a8"
             ],
             [
              0.3333333333333333,
              "#9c179e"
             ],
             [
              0.4444444444444444,
              "#bd3786"
             ],
             [
              0.5555555555555556,
              "#d8576b"
             ],
             [
              0.6666666666666666,
              "#ed7953"
             ],
             [
              0.7777777777777778,
              "#fb9f3a"
             ],
             [
              0.8888888888888888,
              "#fdca26"
             ],
             [
              1,
              "#f0f921"
             ]
            ],
            "type": "contour"
           }
          ],
          "contourcarpet": [
           {
            "colorbar": {
             "outlinewidth": 0,
             "ticks": ""
            },
            "type": "contourcarpet"
           }
          ],
          "heatmap": [
           {
            "colorbar": {
             "outlinewidth": 0,
             "ticks": ""
            },
            "colorscale": [
             [
              0,
              "#0d0887"
             ],
             [
              0.1111111111111111,
              "#46039f"
             ],
             [
              0.2222222222222222,
              "#7201a8"
             ],
             [
              0.3333333333333333,
              "#9c179e"
             ],
             [
              0.4444444444444444,
              "#bd3786"
             ],
             [
              0.5555555555555556,
              "#d8576b"
             ],
             [
              0.6666666666666666,
              "#ed7953"
             ],
             [
              0.7777777777777778,
              "#fb9f3a"
             ],
             [
              0.8888888888888888,
              "#fdca26"
             ],
             [
              1,
              "#f0f921"
             ]
            ],
            "type": "heatmap"
           }
          ],
          "heatmapgl": [
           {
            "colorbar": {
             "outlinewidth": 0,
             "ticks": ""
            },
            "colorscale": [
             [
              0,
              "#0d0887"
             ],
             [
              0.1111111111111111,
              "#46039f"
             ],
             [
              0.2222222222222222,
              "#7201a8"
             ],
             [
              0.3333333333333333,
              "#9c179e"
             ],
             [
              0.4444444444444444,
              "#bd3786"
             ],
             [
              0.5555555555555556,
              "#d8576b"
             ],
             [
              0.6666666666666666,
              "#ed7953"
             ],
             [
              0.7777777777777778,
              "#fb9f3a"
             ],
             [
              0.8888888888888888,
              "#fdca26"
             ],
             [
              1,
              "#f0f921"
             ]
            ],
            "type": "heatmapgl"
           }
          ],
          "histogram": [
           {
            "marker": {
             "colorbar": {
              "outlinewidth": 0,
              "ticks": ""
             }
            },
            "type": "histogram"
           }
          ],
          "histogram2d": [
           {
            "colorbar": {
             "outlinewidth": 0,
             "ticks": ""
            },
            "colorscale": [
             [
              0,
              "#0d0887"
             ],
             [
              0.1111111111111111,
              "#46039f"
             ],
             [
              0.2222222222222222,
              "#7201a8"
             ],
             [
              0.3333333333333333,
              "#9c179e"
             ],
             [
              0.4444444444444444,
              "#bd3786"
             ],
             [
              0.5555555555555556,
              "#d8576b"
             ],
             [
              0.6666666666666666,
              "#ed7953"
             ],
             [
              0.7777777777777778,
              "#fb9f3a"
             ],
             [
              0.8888888888888888,
              "#fdca26"
             ],
             [
              1,
              "#f0f921"
             ]
            ],
            "type": "histogram2d"
           }
          ],
          "histogram2dcontour": [
           {
            "colorbar": {
             "outlinewidth": 0,
             "ticks": ""
            },
            "colorscale": [
             [
              0,
              "#0d0887"
             ],
             [
              0.1111111111111111,
              "#46039f"
             ],
             [
              0.2222222222222222,
              "#7201a8"
             ],
             [
              0.3333333333333333,
              "#9c179e"
             ],
             [
              0.4444444444444444,
              "#bd3786"
             ],
             [
              0.5555555555555556,
              "#d8576b"
             ],
             [
              0.6666666666666666,
              "#ed7953"
             ],
             [
              0.7777777777777778,
              "#fb9f3a"
             ],
             [
              0.8888888888888888,
              "#fdca26"
             ],
             [
              1,
              "#f0f921"
             ]
            ],
            "type": "histogram2dcontour"
           }
          ],
          "mesh3d": [
           {
            "colorbar": {
             "outlinewidth": 0,
             "ticks": ""
            },
            "type": "mesh3d"
           }
          ],
          "parcoords": [
           {
            "line": {
             "colorbar": {
              "outlinewidth": 0,
              "ticks": ""
             }
            },
            "type": "parcoords"
           }
          ],
          "scatter": [
           {
            "marker": {
             "line": {
              "color": "#283442"
             }
            },
            "type": "scatter"
           }
          ],
          "scatter3d": [
           {
            "line": {
             "colorbar": {
              "outlinewidth": 0,
              "ticks": ""
             }
            },
            "marker": {
             "colorbar": {
              "outlinewidth": 0,
              "ticks": ""
             }
            },
            "type": "scatter3d"
           }
          ],
          "scattercarpet": [
           {
            "marker": {
             "colorbar": {
              "outlinewidth": 0,
              "ticks": ""
             }
            },
            "type": "scattercarpet"
           }
          ],
          "scattergeo": [
           {
            "marker": {
             "colorbar": {
              "outlinewidth": 0,
              "ticks": ""
             }
            },
            "type": "scattergeo"
           }
          ],
          "scattergl": [
           {
            "marker": {
             "line": {
              "color": "#283442"
             }
            },
            "type": "scattergl"
           }
          ],
          "scattermapbox": [
           {
            "marker": {
             "colorbar": {
              "outlinewidth": 0,
              "ticks": ""
             }
            },
            "type": "scattermapbox"
           }
          ],
          "scatterpolar": [
           {
            "marker": {
             "colorbar": {
              "outlinewidth": 0,
              "ticks": ""
             }
            },
            "type": "scatterpolar"
           }
          ],
          "scatterpolargl": [
           {
            "marker": {
             "colorbar": {
              "outlinewidth": 0,
              "ticks": ""
             }
            },
            "type": "scatterpolargl"
           }
          ],
          "scatterternary": [
           {
            "marker": {
             "colorbar": {
              "outlinewidth": 0,
              "ticks": ""
             }
            },
            "type": "scatterternary"
           }
          ],
          "surface": [
           {
            "colorbar": {
             "outlinewidth": 0,
             "ticks": ""
            },
            "colorscale": [
             [
              0,
              "#0d0887"
             ],
             [
              0.1111111111111111,
              "#46039f"
             ],
             [
              0.2222222222222222,
              "#7201a8"
             ],
             [
              0.3333333333333333,
              "#9c179e"
             ],
             [
              0.4444444444444444,
              "#bd3786"
             ],
             [
              0.5555555555555556,
              "#d8576b"
             ],
             [
              0.6666666666666666,
              "#ed7953"
             ],
             [
              0.7777777777777778,
              "#fb9f3a"
             ],
             [
              0.8888888888888888,
              "#fdca26"
             ],
             [
              1,
              "#f0f921"
             ]
            ],
            "type": "surface"
           }
          ],
          "table": [
           {
            "cells": {
             "fill": {
              "color": "#506784"
             },
             "line": {
              "color": "rgb(17,17,17)"
             }
            },
            "header": {
             "fill": {
              "color": "#2a3f5f"
             },
             "line": {
              "color": "rgb(17,17,17)"
             }
            },
            "type": "table"
           }
          ]
         },
         "layout": {
          "annotationdefaults": {
           "arrowcolor": "#f2f5fa",
           "arrowhead": 0,
           "arrowwidth": 1
          },
          "colorscale": {
           "diverging": [
            [
             0,
             "#8e0152"
            ],
            [
             0.1,
             "#c51b7d"
            ],
            [
             0.2,
             "#de77ae"
            ],
            [
             0.3,
             "#f1b6da"
            ],
            [
             0.4,
             "#fde0ef"
            ],
            [
             0.5,
             "#f7f7f7"
            ],
            [
             0.6,
             "#e6f5d0"
            ],
            [
             0.7,
             "#b8e186"
            ],
            [
             0.8,
             "#7fbc41"
            ],
            [
             0.9,
             "#4d9221"
            ],
            [
             1,
             "#276419"
            ]
           ],
           "sequential": [
            [
             0,
             "#0d0887"
            ],
            [
             0.1111111111111111,
             "#46039f"
            ],
            [
             0.2222222222222222,
             "#7201a8"
            ],
            [
             0.3333333333333333,
             "#9c179e"
            ],
            [
             0.4444444444444444,
             "#bd3786"
            ],
            [
             0.5555555555555556,
             "#d8576b"
            ],
            [
             0.6666666666666666,
             "#ed7953"
            ],
            [
             0.7777777777777778,
             "#fb9f3a"
            ],
            [
             0.8888888888888888,
             "#fdca26"
            ],
            [
             1,
             "#f0f921"
            ]
           ],
           "sequentialminus": [
            [
             0,
             "#0d0887"
            ],
            [
             0.1111111111111111,
             "#46039f"
            ],
            [
             0.2222222222222222,
             "#7201a8"
            ],
            [
             0.3333333333333333,
             "#9c179e"
            ],
            [
             0.4444444444444444,
             "#bd3786"
            ],
            [
             0.5555555555555556,
             "#d8576b"
            ],
            [
             0.6666666666666666,
             "#ed7953"
            ],
            [
             0.7777777777777778,
             "#fb9f3a"
            ],
            [
             0.8888888888888888,
             "#fdca26"
            ],
            [
             1,
             "#f0f921"
            ]
           ]
          },
          "colorway": [
           "#636efa",
           "#EF553B",
           "#00cc96",
           "#ab63fa",
           "#FFA15A",
           "#19d3f3",
           "#FF6692",
           "#B6E880",
           "#FF97FF",
           "#FECB52"
          ],
          "font": {
           "color": "#f2f5fa"
          },
          "geo": {
           "bgcolor": "rgb(17,17,17)",
           "lakecolor": "rgb(17,17,17)",
           "landcolor": "rgb(17,17,17)",
           "showlakes": true,
           "showland": true,
           "subunitcolor": "#506784"
          },
          "hoverlabel": {
           "align": "left"
          },
          "hovermode": "closest",
          "mapbox": {
           "style": "dark"
          },
          "paper_bgcolor": "rgb(17,17,17)",
          "plot_bgcolor": "rgb(17,17,17)",
          "polar": {
           "angularaxis": {
            "gridcolor": "#506784",
            "linecolor": "#506784",
            "ticks": ""
           },
           "bgcolor": "rgb(17,17,17)",
           "radialaxis": {
            "gridcolor": "#506784",
            "linecolor": "#506784",
            "ticks": ""
           }
          },
          "scene": {
           "xaxis": {
            "backgroundcolor": "rgb(17,17,17)",
            "gridcolor": "#506784",
            "gridwidth": 2,
            "linecolor": "#506784",
            "showbackground": true,
            "ticks": "",
            "zerolinecolor": "#C8D4E3"
           },
           "yaxis": {
            "backgroundcolor": "rgb(17,17,17)",
            "gridcolor": "#506784",
            "gridwidth": 2,
            "linecolor": "#506784",
            "showbackground": true,
            "ticks": "",
            "zerolinecolor": "#C8D4E3"
           },
           "zaxis": {
            "backgroundcolor": "rgb(17,17,17)",
            "gridcolor": "#506784",
            "gridwidth": 2,
            "linecolor": "#506784",
            "showbackground": true,
            "ticks": "",
            "zerolinecolor": "#C8D4E3"
           }
          },
          "shapedefaults": {
           "line": {
            "color": "#f2f5fa"
           }
          },
          "sliderdefaults": {
           "bgcolor": "#C8D4E3",
           "bordercolor": "rgb(17,17,17)",
           "borderwidth": 1,
           "tickwidth": 0
          },
          "ternary": {
           "aaxis": {
            "gridcolor": "#506784",
            "linecolor": "#506784",
            "ticks": ""
           },
           "baxis": {
            "gridcolor": "#506784",
            "linecolor": "#506784",
            "ticks": ""
           },
           "bgcolor": "rgb(17,17,17)",
           "caxis": {
            "gridcolor": "#506784",
            "linecolor": "#506784",
            "ticks": ""
           }
          },
          "title": {
           "x": 0.05
          },
          "updatemenudefaults": {
           "bgcolor": "#506784",
           "borderwidth": 0
          },
          "xaxis": {
           "automargin": true,
           "gridcolor": "#283442",
           "linecolor": "#506784",
           "ticks": "",
           "zerolinecolor": "#283442",
           "zerolinewidth": 2
          },
          "yaxis": {
           "automargin": true,
           "gridcolor": "#283442",
           "linecolor": "#506784",
           "ticks": "",
           "zerolinecolor": "#283442",
           "zerolinewidth": 2
          }
         }
        }
       }
      },
      "text/html": [
       "<div>\n",
       "        \n",
       "        \n",
       "            <div id=\"e1d7d52e-44ec-4809-87c9-7c1856671f08\" class=\"plotly-graph-div\" style=\"height:525px; width:100%;\"></div>\n",
       "            <script type=\"text/javascript\">\n",
       "                require([\"plotly\"], function(Plotly) {\n",
       "                    window.PLOTLYENV=window.PLOTLYENV || {};\n",
       "                    \n",
       "                if (document.getElementById(\"e1d7d52e-44ec-4809-87c9-7c1856671f08\")) {\n",
       "                    Plotly.newPlot(\n",
       "                        'e1d7d52e-44ec-4809-87c9-7c1856671f08',\n",
       "                        [{\"name\": \"Cross\", \"type\": \"bar\", \"x\": [\"Before 1970\", \"1970-1979\", \"1980-1989\", \"1990-1999\", \"2000-2009\", \"2010-2019\"], \"y\": [1, 5, 2, 33, 144, 155]}, {\"name\": \"Cone\", \"type\": \"bar\", \"x\": [\"Before 1970\", \"1970-1979\", \"1980-1989\", \"1990-1999\", \"2000-2009\", \"2010-2019\"], \"y\": [2, 8, 10, 54, 205, 185]}, {\"name\": \"Egg\", \"type\": \"bar\", \"x\": [\"Before 1970\", \"1970-1979\", \"1980-1989\", \"1990-1999\", \"2000-2009\", \"2010-2019\"], \"y\": [6, 28, 29, 162, 463, 289]}, {\"name\": \"Teardrop\", \"type\": \"bar\", \"x\": [\"Before 1970\", \"1970-1979\", \"1980-1989\", \"1990-1999\", \"2000-2009\", \"2010-2019\"], \"y\": [1, 13, 12, 112, 485, 378]}, {\"name\": \"Chevron\", \"type\": \"bar\", \"x\": [\"Before 1970\", \"1970-1979\", \"1980-1989\", \"1990-1999\", \"2000-2009\", \"2010-2019\"], \"y\": [1, 32, 47, 175, 550, 469]}, {\"name\": \"Diamond\", \"type\": \"bar\", \"x\": [\"Before 1970\", \"1970-1979\", \"1980-1989\", \"1990-1999\", \"2000-2009\", \"2010-2019\"], \"y\": [1, 25, 42, 195, 692, 674]}, {\"name\": \"Cylinder\", \"type\": \"bar\", \"x\": [\"Before 1970\", \"1970-1979\", \"1980-1989\", \"1990-1999\", \"2000-2009\", \"2010-2019\"], \"y\": [11, 47, 49, 205, 711, 651]}, {\"name\": \"Rectangle\", \"type\": \"bar\", \"x\": [\"Before 1970\", \"1970-1979\", \"1980-1989\", \"1990-1999\", \"2000-2009\", \"2010-2019\"], \"y\": [5, 77, 75, 191, 726, 752]}, {\"name\": \"Flash\", \"type\": \"bar\", \"x\": [\"Before 1970\", \"1970-1979\", \"1980-1989\", \"1990-1999\", \"2000-2009\", \"2010-2019\"], \"y\": [1, 16, 15, 183, 819, 920]}, {\"name\": \"Cigar\", \"type\": \"bar\", \"x\": [\"Before 1970\", \"1970-1979\", \"1980-1989\", \"1990-1999\", \"2000-2009\", \"2010-2019\"], \"y\": [18, 161, 93, 324, 1176, 741]}, {\"name\": \"Formation\", \"type\": \"bar\", \"x\": [\"Before 1970\", \"1970-1979\", \"1980-1989\", \"1990-1999\", \"2000-2009\", \"2010-2019\"], \"y\": [7, 43, 59, 379, 1348, 1578]}, {\"name\": \"Oval\", \"type\": \"bar\", \"x\": [\"Before 1970\", \"1970-1979\", \"1980-1989\", \"1990-1999\", \"2000-2009\", \"2010-2019\"], \"y\": [31, 200, 132, 506, 2125, 1897]}, {\"name\": \"Disk\", \"type\": \"bar\", \"x\": [\"Before 1970\", \"1970-1979\", \"1980-1989\", \"1990-1999\", \"2000-2009\", \"2010-2019\"], \"y\": [91, 653, 327, 931, 2798, 1631]}, {\"name\": \"Sphere\", \"type\": \"bar\", \"x\": [\"Before 1970\", \"1970-1979\", \"1980-1989\", \"1990-1999\", \"2000-2009\", \"2010-2019\"], \"y\": [28, 185, 196, 780, 2700, 3320]}, {\"name\": \"Fireball\", \"type\": \"bar\", \"x\": [\"Before 1970\", \"1970-1979\", \"1980-1989\", \"1990-1999\", \"2000-2009\", \"2010-2019\"], \"y\": [4, 80, 77, 974, 2514, 4928]}, {\"name\": \"Triangle\", \"type\": \"bar\", \"x\": [\"Before 1970\", \"1970-1979\", \"1980-1989\", \"1990-1999\", \"2000-2009\", \"2010-2019\"], \"y\": [12, 256, 325, 1533, 4444, 3813]}, {\"name\": \"Circle\", \"type\": \"bar\", \"x\": [\"Before 1970\", \"1970-1979\", \"1980-1989\", \"1990-1999\", \"2000-2009\", \"2010-2019\"], \"y\": [34, 298, 193, 965, 4024, 5748]}, {\"name\": \"Other or Unknown\", \"type\": \"bar\", \"x\": [\"Before 1970\", \"1970-1979\", \"1980-1989\", \"1990-1999\", \"2000-2009\", \"2010-2019\"], \"y\": [66, 381, 421, 1827, 6887, 5704]}, {\"name\": \"Light\", \"type\": \"bar\", \"x\": [\"Before 1970\", \"1970-1979\", \"1980-1989\", \"1990-1999\", \"2000-2009\", \"2010-2019\"], \"y\": [44, 360, 286, 2328, 9734, 9752]}],\n",
       "                        {\"barmode\": \"stack\", \"template\": {\"data\": {\"bar\": [{\"error_x\": {\"color\": \"#f2f5fa\"}, \"error_y\": {\"color\": \"#f2f5fa\"}, \"marker\": {\"line\": {\"color\": \"rgb(17,17,17)\", \"width\": 0.5}}, \"type\": \"bar\"}], \"barpolar\": [{\"marker\": {\"line\": {\"color\": \"rgb(17,17,17)\", \"width\": 0.5}}, \"type\": \"barpolar\"}], \"carpet\": [{\"aaxis\": {\"endlinecolor\": \"#A2B1C6\", \"gridcolor\": \"#506784\", \"linecolor\": \"#506784\", \"minorgridcolor\": \"#506784\", \"startlinecolor\": \"#A2B1C6\"}, \"baxis\": {\"endlinecolor\": \"#A2B1C6\", \"gridcolor\": \"#506784\", \"linecolor\": \"#506784\", \"minorgridcolor\": \"#506784\", \"startlinecolor\": \"#A2B1C6\"}, \"type\": \"carpet\"}], \"choropleth\": [{\"colorbar\": {\"outlinewidth\": 0, \"ticks\": \"\"}, \"type\": \"choropleth\"}], \"contour\": [{\"colorbar\": {\"outlinewidth\": 0, \"ticks\": \"\"}, \"colorscale\": [[0.0, \"#0d0887\"], [0.1111111111111111, \"#46039f\"], [0.2222222222222222, \"#7201a8\"], [0.3333333333333333, \"#9c179e\"], [0.4444444444444444, \"#bd3786\"], [0.5555555555555556, \"#d8576b\"], [0.6666666666666666, \"#ed7953\"], [0.7777777777777778, \"#fb9f3a\"], [0.8888888888888888, \"#fdca26\"], [1.0, \"#f0f921\"]], \"type\": \"contour\"}], \"contourcarpet\": [{\"colorbar\": {\"outlinewidth\": 0, \"ticks\": \"\"}, \"type\": \"contourcarpet\"}], \"heatmap\": [{\"colorbar\": {\"outlinewidth\": 0, \"ticks\": \"\"}, \"colorscale\": [[0.0, \"#0d0887\"], [0.1111111111111111, \"#46039f\"], [0.2222222222222222, \"#7201a8\"], [0.3333333333333333, \"#9c179e\"], [0.4444444444444444, \"#bd3786\"], [0.5555555555555556, \"#d8576b\"], [0.6666666666666666, \"#ed7953\"], [0.7777777777777778, \"#fb9f3a\"], [0.8888888888888888, \"#fdca26\"], [1.0, \"#f0f921\"]], \"type\": \"heatmap\"}], \"heatmapgl\": [{\"colorbar\": {\"outlinewidth\": 0, \"ticks\": \"\"}, \"colorscale\": [[0.0, \"#0d0887\"], [0.1111111111111111, \"#46039f\"], [0.2222222222222222, \"#7201a8\"], [0.3333333333333333, \"#9c179e\"], [0.4444444444444444, \"#bd3786\"], [0.5555555555555556, \"#d8576b\"], [0.6666666666666666, \"#ed7953\"], [0.7777777777777778, \"#fb9f3a\"], [0.8888888888888888, \"#fdca26\"], [1.0, \"#f0f921\"]], \"type\": \"heatmapgl\"}], \"histogram\": [{\"marker\": {\"colorbar\": {\"outlinewidth\": 0, \"ticks\": \"\"}}, \"type\": \"histogram\"}], \"histogram2d\": [{\"colorbar\": {\"outlinewidth\": 0, \"ticks\": \"\"}, \"colorscale\": [[0.0, \"#0d0887\"], [0.1111111111111111, \"#46039f\"], [0.2222222222222222, \"#7201a8\"], [0.3333333333333333, \"#9c179e\"], [0.4444444444444444, \"#bd3786\"], [0.5555555555555556, \"#d8576b\"], [0.6666666666666666, \"#ed7953\"], [0.7777777777777778, \"#fb9f3a\"], [0.8888888888888888, \"#fdca26\"], [1.0, \"#f0f921\"]], \"type\": \"histogram2d\"}], \"histogram2dcontour\": [{\"colorbar\": {\"outlinewidth\": 0, \"ticks\": \"\"}, \"colorscale\": [[0.0, \"#0d0887\"], [0.1111111111111111, \"#46039f\"], [0.2222222222222222, \"#7201a8\"], [0.3333333333333333, \"#9c179e\"], [0.4444444444444444, \"#bd3786\"], [0.5555555555555556, \"#d8576b\"], [0.6666666666666666, \"#ed7953\"], [0.7777777777777778, \"#fb9f3a\"], [0.8888888888888888, \"#fdca26\"], [1.0, \"#f0f921\"]], \"type\": \"histogram2dcontour\"}], \"mesh3d\": [{\"colorbar\": {\"outlinewidth\": 0, \"ticks\": \"\"}, \"type\": \"mesh3d\"}], \"parcoords\": [{\"line\": {\"colorbar\": {\"outlinewidth\": 0, \"ticks\": \"\"}}, \"type\": \"parcoords\"}], \"scatter\": [{\"marker\": {\"line\": {\"color\": \"#283442\"}}, \"type\": \"scatter\"}], \"scatter3d\": [{\"line\": {\"colorbar\": {\"outlinewidth\": 0, \"ticks\": \"\"}}, \"marker\": {\"colorbar\": {\"outlinewidth\": 0, \"ticks\": \"\"}}, \"type\": \"scatter3d\"}], \"scattercarpet\": [{\"marker\": {\"colorbar\": {\"outlinewidth\": 0, \"ticks\": \"\"}}, \"type\": \"scattercarpet\"}], \"scattergeo\": [{\"marker\": {\"colorbar\": {\"outlinewidth\": 0, \"ticks\": \"\"}}, \"type\": \"scattergeo\"}], \"scattergl\": [{\"marker\": {\"line\": {\"color\": \"#283442\"}}, \"type\": \"scattergl\"}], \"scattermapbox\": [{\"marker\": {\"colorbar\": {\"outlinewidth\": 0, \"ticks\": \"\"}}, \"type\": \"scattermapbox\"}], \"scatterpolar\": [{\"marker\": {\"colorbar\": {\"outlinewidth\": 0, \"ticks\": \"\"}}, \"type\": \"scatterpolar\"}], \"scatterpolargl\": [{\"marker\": {\"colorbar\": {\"outlinewidth\": 0, \"ticks\": \"\"}}, \"type\": \"scatterpolargl\"}], \"scatterternary\": [{\"marker\": {\"colorbar\": {\"outlinewidth\": 0, \"ticks\": \"\"}}, \"type\": \"scatterternary\"}], \"surface\": [{\"colorbar\": {\"outlinewidth\": 0, \"ticks\": \"\"}, \"colorscale\": [[0.0, \"#0d0887\"], [0.1111111111111111, \"#46039f\"], [0.2222222222222222, \"#7201a8\"], [0.3333333333333333, \"#9c179e\"], [0.4444444444444444, \"#bd3786\"], [0.5555555555555556, \"#d8576b\"], [0.6666666666666666, \"#ed7953\"], [0.7777777777777778, \"#fb9f3a\"], [0.8888888888888888, \"#fdca26\"], [1.0, \"#f0f921\"]], \"type\": \"surface\"}], \"table\": [{\"cells\": {\"fill\": {\"color\": \"#506784\"}, \"line\": {\"color\": \"rgb(17,17,17)\"}}, \"header\": {\"fill\": {\"color\": \"#2a3f5f\"}, \"line\": {\"color\": \"rgb(17,17,17)\"}}, \"type\": \"table\"}]}, \"layout\": {\"annotationdefaults\": {\"arrowcolor\": \"#f2f5fa\", \"arrowhead\": 0, \"arrowwidth\": 1}, \"colorscale\": {\"diverging\": [[0, \"#8e0152\"], [0.1, \"#c51b7d\"], [0.2, \"#de77ae\"], [0.3, \"#f1b6da\"], [0.4, \"#fde0ef\"], [0.5, \"#f7f7f7\"], [0.6, \"#e6f5d0\"], [0.7, \"#b8e186\"], [0.8, \"#7fbc41\"], [0.9, \"#4d9221\"], [1, \"#276419\"]], \"sequential\": [[0.0, \"#0d0887\"], [0.1111111111111111, \"#46039f\"], [0.2222222222222222, \"#7201a8\"], [0.3333333333333333, \"#9c179e\"], [0.4444444444444444, \"#bd3786\"], [0.5555555555555556, \"#d8576b\"], [0.6666666666666666, \"#ed7953\"], [0.7777777777777778, \"#fb9f3a\"], [0.8888888888888888, \"#fdca26\"], [1.0, \"#f0f921\"]], \"sequentialminus\": [[0.0, \"#0d0887\"], [0.1111111111111111, \"#46039f\"], [0.2222222222222222, \"#7201a8\"], [0.3333333333333333, \"#9c179e\"], [0.4444444444444444, \"#bd3786\"], [0.5555555555555556, \"#d8576b\"], [0.6666666666666666, \"#ed7953\"], [0.7777777777777778, \"#fb9f3a\"], [0.8888888888888888, \"#fdca26\"], [1.0, \"#f0f921\"]]}, \"colorway\": [\"#636efa\", \"#EF553B\", \"#00cc96\", \"#ab63fa\", \"#FFA15A\", \"#19d3f3\", \"#FF6692\", \"#B6E880\", \"#FF97FF\", \"#FECB52\"], \"font\": {\"color\": \"#f2f5fa\"}, \"geo\": {\"bgcolor\": \"rgb(17,17,17)\", \"lakecolor\": \"rgb(17,17,17)\", \"landcolor\": \"rgb(17,17,17)\", \"showlakes\": true, \"showland\": true, \"subunitcolor\": \"#506784\"}, \"hoverlabel\": {\"align\": \"left\"}, \"hovermode\": \"closest\", \"mapbox\": {\"style\": \"dark\"}, \"paper_bgcolor\": \"rgb(17,17,17)\", \"plot_bgcolor\": \"rgb(17,17,17)\", \"polar\": {\"angularaxis\": {\"gridcolor\": \"#506784\", \"linecolor\": \"#506784\", \"ticks\": \"\"}, \"bgcolor\": \"rgb(17,17,17)\", \"radialaxis\": {\"gridcolor\": \"#506784\", \"linecolor\": \"#506784\", \"ticks\": \"\"}}, \"scene\": {\"xaxis\": {\"backgroundcolor\": \"rgb(17,17,17)\", \"gridcolor\": \"#506784\", \"gridwidth\": 2, \"linecolor\": \"#506784\", \"showbackground\": true, \"ticks\": \"\", \"zerolinecolor\": \"#C8D4E3\"}, \"yaxis\": {\"backgroundcolor\": \"rgb(17,17,17)\", \"gridcolor\": \"#506784\", \"gridwidth\": 2, \"linecolor\": \"#506784\", \"showbackground\": true, \"ticks\": \"\", \"zerolinecolor\": \"#C8D4E3\"}, \"zaxis\": {\"backgroundcolor\": \"rgb(17,17,17)\", \"gridcolor\": \"#506784\", \"gridwidth\": 2, \"linecolor\": \"#506784\", \"showbackground\": true, \"ticks\": \"\", \"zerolinecolor\": \"#C8D4E3\"}}, \"shapedefaults\": {\"line\": {\"color\": \"#f2f5fa\"}}, \"sliderdefaults\": {\"bgcolor\": \"#C8D4E3\", \"bordercolor\": \"rgb(17,17,17)\", \"borderwidth\": 1, \"tickwidth\": 0}, \"ternary\": {\"aaxis\": {\"gridcolor\": \"#506784\", \"linecolor\": \"#506784\", \"ticks\": \"\"}, \"baxis\": {\"gridcolor\": \"#506784\", \"linecolor\": \"#506784\", \"ticks\": \"\"}, \"bgcolor\": \"rgb(17,17,17)\", \"caxis\": {\"gridcolor\": \"#506784\", \"linecolor\": \"#506784\", \"ticks\": \"\"}}, \"title\": {\"x\": 0.05}, \"updatemenudefaults\": {\"bgcolor\": \"#506784\", \"borderwidth\": 0}, \"xaxis\": {\"automargin\": true, \"gridcolor\": \"#283442\", \"linecolor\": \"#506784\", \"ticks\": \"\", \"zerolinecolor\": \"#283442\", \"zerolinewidth\": 2}, \"yaxis\": {\"automargin\": true, \"gridcolor\": \"#283442\", \"linecolor\": \"#506784\", \"ticks\": \"\", \"zerolinecolor\": \"#283442\", \"zerolinewidth\": 2}}}},\n",
       "                        {\"responsive\": true}\n",
       "                    ).then(function(){\n",
       "                            \n",
       "var gd = document.getElementById('e1d7d52e-44ec-4809-87c9-7c1856671f08');\n",
       "var x = new MutationObserver(function (mutations, observer) {{\n",
       "        var display = window.getComputedStyle(gd).display;\n",
       "        if (!display || display === 'none') {{\n",
       "            console.log([gd, 'removed!']);\n",
       "            Plotly.purge(gd);\n",
       "            observer.disconnect();\n",
       "        }}\n",
       "}});\n",
       "\n",
       "// Listen for the removal of the full notebook cells\n",
       "var notebookContainer = gd.closest('#notebook-container');\n",
       "if (notebookContainer) {{\n",
       "    x.observe(notebookContainer, {childList: true});\n",
       "}}\n",
       "\n",
       "// Listen for the clearing of the current output cell\n",
       "var outputEl = gd.closest('.output');\n",
       "if (outputEl) {{\n",
       "    x.observe(outputEl, {childList: true});\n",
       "}}\n",
       "\n",
       "                        })\n",
       "                };\n",
       "                });\n",
       "            </script>\n",
       "        </div>"
      ]
     },
     "metadata": {},
     "output_type": "display_data"
    }
   ],
   "source": [
    "fig.update_layout(template=\"plotly_dark\")\n",
    "fig.show()"
   ]
  },
  {
   "cell_type": "code",
   "execution_count": null,
   "metadata": {},
   "outputs": [],
   "source": []
  }
 ],
 "metadata": {
  "kernelspec": {
   "display_name": "Python 3",
   "language": "python",
   "name": "python3"
  },
  "language_info": {
   "codemirror_mode": {
    "name": "ipython",
    "version": 3
   },
   "file_extension": ".py",
   "mimetype": "text/x-python",
   "name": "python",
   "nbconvert_exporter": "python",
   "pygments_lexer": "ipython3",
   "version": "3.7.3"
  }
 },
 "nbformat": 4,
 "nbformat_minor": 2
}
