{
 "cells": [
  {
   "cell_type": "code",
   "execution_count": 2,
   "metadata": {},
   "outputs": [],
   "source": [
    "import pandas as pd\n",
    "import sqlalchemy\n",
    "from sqlalchemy.ext.automap import automap_base\n",
    "from sqlalchemy.orm import Session\n",
    "from sqlalchemy import create_engine\n",
    "from flask import Flask, jsonify, render_template\n",
    "from flask_sqlalchemy import SQLAlchemy\n",
    "\n",
    "from sqlalchemy import create_engine\n",
    "listofshapes=[]\n",
    "listofstates=[]"
   ]
  },
  {
   "cell_type": "code",
   "execution_count": 5,
   "metadata": {},
   "outputs": [],
   "source": [
    " engine =create_engine('sqlite:///UFO_db')\n",
    " \n",
    "\n",
    "listofCSVs=['nuforc_reports.csv','uscitiesv1.5.csv']\n"
   ]
  },
  {
   "cell_type": "code",
   "execution_count": 39,
   "metadata": {},
   "outputs": [
    {
     "data": {
      "text/html": [
       "<div>\n",
       "<style scoped>\n",
       "    .dataframe tbody tr th:only-of-type {\n",
       "        vertical-align: middle;\n",
       "    }\n",
       "\n",
       "    .dataframe tbody tr th {\n",
       "        vertical-align: top;\n",
       "    }\n",
       "\n",
       "    .dataframe thead th {\n",
       "        text-align: right;\n",
       "    }\n",
       "</style>\n",
       "<table border=\"1\" class=\"dataframe\">\n",
       "  <thead>\n",
       "    <tr style=\"text-align: right;\">\n",
       "      <th></th>\n",
       "      <th>summary</th>\n",
       "      <th>city</th>\n",
       "      <th>state</th>\n",
       "      <th>date_time</th>\n",
       "      <th>shape</th>\n",
       "      <th>duration</th>\n",
       "      <th>stats</th>\n",
       "      <th>report_link</th>\n",
       "      <th>text</th>\n",
       "      <th>posted</th>\n",
       "      <th>city_latitude</th>\n",
       "      <th>city_longitude</th>\n",
       "    </tr>\n",
       "  </thead>\n",
       "  <tbody>\n",
       "    <tr>\n",
       "      <th>112090</th>\n",
       "      <td>Unsure of object.  ((NUFORC Note:  Probable si...</td>\n",
       "      <td>Brandon</td>\n",
       "      <td>SD</td>\n",
       "      <td>2017-01-18T20:28:00</td>\n",
       "      <td>other</td>\n",
       "      <td>35 minutes</td>\n",
       "      <td>Occurred : 1/18/2017 20:28  (Entered as : 0118...</td>\n",
       "      <td>http://www.nuforc.org/webreports/132/S132223.html</td>\n",
       "      <td>Unsure of object. Object has been staying in o...</td>\n",
       "      <td>2017-01-19T00:00:00</td>\n",
       "      <td>43.587300</td>\n",
       "      <td>-96.602900</td>\n",
       "    </tr>\n",
       "    <tr>\n",
       "      <th>112091</th>\n",
       "      <td>Triangle light form, silent, slow and strange</td>\n",
       "      <td>Truro</td>\n",
       "      <td>NS</td>\n",
       "      <td>2017-01-18T21:50:00</td>\n",
       "      <td>triangle</td>\n",
       "      <td>1-2 minutes</td>\n",
       "      <td>Occurred : 1/18/2017 21:50  (Entered as : 1/18...</td>\n",
       "      <td>http://www.nuforc.org/webreports/132/S132226.html</td>\n",
       "      <td>Triangle light form, silent, slow and strange ...</td>\n",
       "      <td>2017-01-19T00:00:00</td>\n",
       "      <td>45.374895</td>\n",
       "      <td>-63.255114</td>\n",
       "    </tr>\n",
       "    <tr>\n",
       "      <th>112092</th>\n",
       "      <td>Triangle Shaped Dark Craft w/ 3 lights in the ...</td>\n",
       "      <td>Chicago</td>\n",
       "      <td>IL</td>\n",
       "      <td>2017-01-18T22:30:00</td>\n",
       "      <td>triangle</td>\n",
       "      <td>30 seconds</td>\n",
       "      <td>Occurred : 1/18/2017 22:30  (Entered as : 01/1...</td>\n",
       "      <td>http://www.nuforc.org/webreports/132/S132233.html</td>\n",
       "      <td>Triangle Shaped Dark Craft w/ 3 lights in the ...</td>\n",
       "      <td>2017-01-19T00:00:00</td>\n",
       "      <td>41.879912</td>\n",
       "      <td>-87.668018</td>\n",
       "    </tr>\n",
       "    <tr>\n",
       "      <th>112093</th>\n",
       "      <td>Green lights in chevron form flying over Fort ...</td>\n",
       "      <td>Fort Collins</td>\n",
       "      <td>CO</td>\n",
       "      <td>2017-01-18T23:30:00</td>\n",
       "      <td>chevron</td>\n",
       "      <td>5-10 seconds</td>\n",
       "      <td>Occurred : 1/18/2017 23:30  (Entered as : 01/1...</td>\n",
       "      <td>http://www.nuforc.org/webreports/132/S132232.html</td>\n",
       "      <td>Green lights in Chevron form flying over Fort ...</td>\n",
       "      <td>2017-01-19T00:00:00</td>\n",
       "      <td>40.550698</td>\n",
       "      <td>-105.077295</td>\n",
       "    </tr>\n",
       "    <tr>\n",
       "      <th>112094</th>\n",
       "      <td>Interesting sighting over Uptown Minneapolis.</td>\n",
       "      <td>Minneapolis</td>\n",
       "      <td>MN</td>\n",
       "      <td>2017-01-19T02:28:00</td>\n",
       "      <td>cigar</td>\n",
       "      <td>30 minutes</td>\n",
       "      <td>Occurred : 1/19/2017 02:28  (Entered as : 01/1...</td>\n",
       "      <td>http://www.nuforc.org/webreports/132/S132234.html</td>\n",
       "      <td>Interesting sighting over Uptown Minneapolis. ...</td>\n",
       "      <td>2017-01-19T00:00:00</td>\n",
       "      <td>44.980783</td>\n",
       "      <td>-93.293308</td>\n",
       "    </tr>\n",
       "  </tbody>\n",
       "</table>\n",
       "</div>"
      ],
      "text/plain": [
       "                                                  summary          city state  \\\n",
       "112090  Unsure of object.  ((NUFORC Note:  Probable si...       Brandon    SD   \n",
       "112091      Triangle light form, silent, slow and strange         Truro    NS   \n",
       "112092  Triangle Shaped Dark Craft w/ 3 lights in the ...       Chicago    IL   \n",
       "112093  Green lights in chevron form flying over Fort ...  Fort Collins    CO   \n",
       "112094      Interesting sighting over Uptown Minneapolis.   Minneapolis    MN   \n",
       "\n",
       "                  date_time     shape      duration  \\\n",
       "112090  2017-01-18T20:28:00     other    35 minutes   \n",
       "112091  2017-01-18T21:50:00  triangle   1-2 minutes   \n",
       "112092  2017-01-18T22:30:00  triangle    30 seconds   \n",
       "112093  2017-01-18T23:30:00   chevron  5-10 seconds   \n",
       "112094  2017-01-19T02:28:00     cigar    30 minutes   \n",
       "\n",
       "                                                    stats  \\\n",
       "112090  Occurred : 1/18/2017 20:28  (Entered as : 0118...   \n",
       "112091  Occurred : 1/18/2017 21:50  (Entered as : 1/18...   \n",
       "112092  Occurred : 1/18/2017 22:30  (Entered as : 01/1...   \n",
       "112093  Occurred : 1/18/2017 23:30  (Entered as : 01/1...   \n",
       "112094  Occurred : 1/19/2017 02:28  (Entered as : 01/1...   \n",
       "\n",
       "                                              report_link  \\\n",
       "112090  http://www.nuforc.org/webreports/132/S132223.html   \n",
       "112091  http://www.nuforc.org/webreports/132/S132226.html   \n",
       "112092  http://www.nuforc.org/webreports/132/S132233.html   \n",
       "112093  http://www.nuforc.org/webreports/132/S132232.html   \n",
       "112094  http://www.nuforc.org/webreports/132/S132234.html   \n",
       "\n",
       "                                                     text  \\\n",
       "112090  Unsure of object. Object has been staying in o...   \n",
       "112091  Triangle light form, silent, slow and strange ...   \n",
       "112092  Triangle Shaped Dark Craft w/ 3 lights in the ...   \n",
       "112093  Green lights in Chevron form flying over Fort ...   \n",
       "112094  Interesting sighting over Uptown Minneapolis. ...   \n",
       "\n",
       "                     posted  city_latitude  city_longitude  \n",
       "112090  2017-01-19T00:00:00      43.587300      -96.602900  \n",
       "112091  2017-01-19T00:00:00      45.374895      -63.255114  \n",
       "112092  2017-01-19T00:00:00      41.879912      -87.668018  \n",
       "112093  2017-01-19T00:00:00      40.550698     -105.077295  \n",
       "112094  2017-01-19T00:00:00      44.980783      -93.293308  "
      ]
     },
     "execution_count": 39,
     "metadata": {},
     "output_type": "execute_result"
    }
   ],
   "source": [
    "    df = pd.read_csv('nuforc_reports.csv')\n",
    "    dfu=df.dropna()\n",
    "    dfu.to_sql(\"UFO_DB\",con=engine, if_exists='replace')\n",
    "    dfu.tail()"
   ]
  },
  {
   "cell_type": "code",
   "execution_count": 40,
   "metadata": {},
   "outputs": [
    {
     "data": {
      "text/plain": [
       "83124"
      ]
     },
     "execution_count": 40,
     "metadata": {},
     "output_type": "execute_result"
    }
   ],
   "source": [
    "len(dfu)"
   ]
  },
  {
   "cell_type": "code",
   "execution_count": 19,
   "metadata": {},
   "outputs": [
    {
     "name": "stdout",
     "output_type": "stream",
     "text": [
      "       city_latitude  city_longitude\n",
      "count   83124.000000    83124.000000\n",
      "mean       38.679068      -95.365643\n",
      "std         5.766409       18.341659\n",
      "min       -32.055500     -170.494000\n",
      "25%        34.179411     -114.290564\n",
      "50%        39.174503      -89.406950\n",
      "75%        42.315149      -80.420518\n",
      "max        64.845276      130.850580\n"
     ]
    }
   ],
   "source": [
    "print(dfu.describe())\n"
   ]
  },
  {
   "cell_type": "code",
   "execution_count": 37,
   "metadata": {},
   "outputs": [
    {
     "data": {
      "text/html": [
       "<div>\n",
       "<style scoped>\n",
       "    .dataframe tbody tr th:only-of-type {\n",
       "        vertical-align: middle;\n",
       "    }\n",
       "\n",
       "    .dataframe tbody tr th {\n",
       "        vertical-align: top;\n",
       "    }\n",
       "\n",
       "    .dataframe thead th {\n",
       "        text-align: right;\n",
       "    }\n",
       "</style>\n",
       "<table border=\"1\" class=\"dataframe\">\n",
       "  <thead>\n",
       "    <tr style=\"text-align: right;\">\n",
       "      <th></th>\n",
       "      <th>city</th>\n",
       "      <th>state_id</th>\n",
       "      <th>county_name</th>\n",
       "      <th>lat</th>\n",
       "      <th>lng</th>\n",
       "      <th>density</th>\n",
       "    </tr>\n",
       "  </thead>\n",
       "  <tbody>\n",
       "    <tr>\n",
       "      <th>37837</th>\n",
       "      <td>Pierpont</td>\n",
       "      <td>SD</td>\n",
       "      <td>Day</td>\n",
       "      <td>45.4953</td>\n",
       "      <td>-97.8321</td>\n",
       "      <td>321.0</td>\n",
       "    </tr>\n",
       "    <tr>\n",
       "      <th>37838</th>\n",
       "      <td>Hill City</td>\n",
       "      <td>SD</td>\n",
       "      <td>Pennington</td>\n",
       "      <td>43.9338</td>\n",
       "      <td>-103.5693</td>\n",
       "      <td>309.0</td>\n",
       "    </tr>\n",
       "    <tr>\n",
       "      <th>37839</th>\n",
       "      <td>Stamford</td>\n",
       "      <td>SD</td>\n",
       "      <td>Jackson</td>\n",
       "      <td>43.8950</td>\n",
       "      <td>-101.0890</td>\n",
       "      <td>0.0</td>\n",
       "    </tr>\n",
       "    <tr>\n",
       "      <th>37840</th>\n",
       "      <td>Orient</td>\n",
       "      <td>SD</td>\n",
       "      <td>Faulk</td>\n",
       "      <td>44.9017</td>\n",
       "      <td>-99.0888</td>\n",
       "      <td>80.0</td>\n",
       "    </tr>\n",
       "    <tr>\n",
       "      <th>37841</th>\n",
       "      <td>Corsica</td>\n",
       "      <td>SD</td>\n",
       "      <td>Douglas</td>\n",
       "      <td>43.4223</td>\n",
       "      <td>-98.4073</td>\n",
       "      <td>267.0</td>\n",
       "    </tr>\n",
       "  </tbody>\n",
       "</table>\n",
       "</div>"
      ],
      "text/plain": [
       "            city state_id county_name      lat       lng  density\n",
       "37837   Pierpont       SD         Day  45.4953  -97.8321    321.0\n",
       "37838  Hill City       SD  Pennington  43.9338 -103.5693    309.0\n",
       "37839   Stamford       SD     Jackson  43.8950 -101.0890      0.0\n",
       "37840     Orient       SD       Faulk  44.9017  -99.0888     80.0\n",
       "37841    Corsica       SD     Douglas  43.4223  -98.4073    267.0"
      ]
     },
     "execution_count": 37,
     "metadata": {},
     "output_type": "execute_result"
    }
   ],
   "source": [
    "    df1 = pd.read_csv('uscitiesv1.5.csv')\n",
    "    df1.to_sql(\"US_Cities\",con=engine,if_exists='replace')\n",
    "    ziplist=['city_ascii','state_name','county_fips','population_proper','population','source','incorporated','timezone','zips','id']\n",
    "df2=df1.drop(ziplist,axis=1)\n",
    "    df2.tail()\n",
    "\n",
    " \n"
   ]
  },
  {
   "cell_type": "code",
   "execution_count": 38,
   "metadata": {},
   "outputs": [
    {
     "name": "stdout",
     "output_type": "stream",
     "text": [
      "                lat           lng       density\n",
      "count  37842.000000  37842.000000  37842.000000\n",
      "mean      38.529060    -92.618426    455.511849\n",
      "std        6.009852     15.542546    750.275250\n",
      "min       17.712200   -176.629500      0.000000\n",
      "25%       34.854250    -98.418675     60.500000\n",
      "50%       39.185450    -90.158800    229.000000\n",
      "75%       41.910825    -81.766525    541.000000\n",
      "max       71.290600    178.877500  27799.000000\n"
     ]
    }
   ],
   "source": [
    "df3=df2.dropna()\n",
    "print(df3.describe())"
   ]
  },
  {
   "cell_type": "code",
   "execution_count": 41,
   "metadata": {},
   "outputs": [],
   "source": [
    "    listofshapes = dfu['shape'].unique()\n",
    "    listofstates = dfu['state'].unique()"
   ]
  },
  {
   "cell_type": "code",
   "execution_count": 42,
   "metadata": {},
   "outputs": [
    {
     "data": {
      "text/plain": [
       "array(['light', 'circle', 'unknown', 'changing', 'oval', 'formation',\n",
       "       'cone', 'triangle', 'disk', 'sphere', 'rectangle', 'other',\n",
       "       'delta', 'fireball', 'egg', 'cigar', 'pyramid', 'chevron', 'cross',\n",
       "       'flash', 'cylinder', 'crescent', 'diamond', 'hexagon', 'teardrop',\n",
       "       'flare', 'round', 'changed'], dtype=object)"
      ]
     },
     "execution_count": 42,
     "metadata": {},
     "output_type": "execute_result"
    }
   ],
   "source": [
    "listofshapes"
   ]
  },
  {
   "cell_type": "code",
   "execution_count": 9,
   "metadata": {},
   "outputs": [
    {
     "data": {
      "text/plain": [
       "array(['OR', 'ME', 'TX', 'FL', 'MT', 'MA', 'CA', 'NJ', 'MD', 'IN', 'MO',\n",
       "       'AZ', 'HI', 'NY', 'WI', 'CO', 'MI', 'WA', 'OH', 'IL', 'UT', 'ID',\n",
       "       'TN', 'KY', 'NV', 'SC', 'OK', 'MN', 'VA', 'PA', nan, 'AK', 'WV',\n",
       "       'CT', 'AR', 'LA', 'SD', 'GA', 'NM', 'BC', 'RI', 'ON', 'ND', 'IA',\n",
       "       'AL', 'MS', 'KS', 'NC', 'AB', 'VI', 'NH', 'VT', 'PR', 'NE', 'DC',\n",
       "       'NS', 'MB', 'QC', 'NB', 'WY', 'DE', 'YT', 'SK', 'NT', 'NL', 'PE'],\n",
       "      dtype=object)"
      ]
     },
     "execution_count": 9,
     "metadata": {},
     "output_type": "execute_result"
    }
   ],
   "source": [
    "listofstates"
   ]
  },
  {
   "cell_type": "code",
   "execution_count": null,
   "metadata": {},
   "outputs": [],
   "source": []
  }
 ],
 "metadata": {
  "kernelspec": {
   "display_name": "Python 3",
   "language": "python",
   "name": "python3"
  },
  "language_info": {
   "codemirror_mode": {
    "name": "ipython",
    "version": 3
   },
   "file_extension": ".py",
   "mimetype": "text/x-python",
   "name": "python",
   "nbconvert_exporter": "python",
   "pygments_lexer": "ipython3",
   "version": "3.7.3"
  }
 },
 "nbformat": 4,
 "nbformat_minor": 4
}
